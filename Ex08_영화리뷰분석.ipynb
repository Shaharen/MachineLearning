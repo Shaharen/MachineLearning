{ 
 "cells": [
  {
   "cell_type": "markdown",
   "id": "b082dfa9",
   "metadata": {},
   "source": [
    "# 문제정의\n",
    "- 영화 리뷰 데이터셋을 활용해서 긍정리뷰와 부정리뷰를 구분\n",
    "- 긍정 / 부정 리뷰에서 자주 사용되는 단어 확인"
   ]
  },
  {
   "cell_type": "markdown",
   "id": "a9d03e58",
   "metadata": {},
   "source": [
    "# 데이터 수집\n",
    "- Large movie dataset 다운로드"
   ]
  },
  {
   "cell_type": "code",
   "execution_count": 1,
   "id": "6b1c7d46",
   "metadata": {},
   "outputs": [],
   "source": [
    "# 파일을 읽어오는 함수\n",
    "from sklearn.datasets import load_files"
   ]
  },
  {
   "cell_type": "code",
   "execution_count": 2,
   "id": "92e914f2",
   "metadata": {},
   "outputs": [],
   "source": [
    "train_data_url = 'data/aclimdb/train'\n",
    "test_data_url = 'data/aclimdb/test'"
   ]
  },
  {
   "cell_type": "code",
   "execution_count": null,
   "id": "d89454a4",
   "metadata": {},
   "outputs": [],
   "source": [
    "reviews_train = load_files(train_data_url , shuffle = True)\n",
    "reviews_test = load_files(test_data_url , shuffle = True)"
   ]
  },
  {
   "cell_type": "code",
   "execution_count": null,
   "id": "db333e9b",
   "metadata": {},
   "outputs": [],
   "source": [
    "reviews_train.keys()"
   ]
  },
  {
   "cell_type": "code",
   "execution_count": null,
   "id": "f9397f86",
   "metadata": {},
   "outputs": [],
   "source": [
    "len(reviews_train.data)"
   ]
  },
  {
   "cell_type": "code",
   "execution_count": null,
   "id": "449d1dbd",
   "metadata": {},
   "outputs": [],
   "source": [
    "reviews_train.data[0]"
   ]
  },
  {
   "cell_type": "code",
   "execution_count": null,
   "id": "6e919c9f",
   "metadata": {},
   "outputs": [],
   "source": [
    "# 0이 부정 1이 긍정\n",
    "reviews_train.target"
   ]
  },
  {
   "cell_type": "markdown",
   "id": "31bc1a4e",
   "metadata": {},
   "source": [
    "# 데이터 전처리"
   ]
  },
  {
   "cell_type": "code",
   "execution_count": null,
   "id": "b5bfa008",
   "metadata": {},
   "outputs": [],
   "source": [
    "reviews_train.data[0]"
   ]
  },
  {
   "cell_type": "markdown",
   "id": "60955e0f",
   "metadata": {},
   "source": [
    "## 태그 제거\n",
    "- br 태그를 띄어쓰기로 변경"
   ]
  },
  {
   "cell_type": "code",
   "execution_count": null,
   "id": "f4d1d8d7",
   "metadata": {},
   "outputs": [],
   "source": [
    "# 바이트형태 리플레이스\n",
    "reviews_train.data[0].replace(b'<br />' , b' ')"
   ]
  },
  {
   "cell_type": "code",
   "execution_count": null,
   "id": "36c3ab3f",
   "metadata": {},
   "outputs": [],
   "source": [
    "X_train = reviews_train.data[:1000]\n",
    "X_test = reviews_test.data[:1000]"
   ]
  },
  {
   "cell_type": "code",
   "execution_count": null,
   "id": "b10bb5fb",
   "metadata": {},
   "outputs": [],
   "source": [
    "y_train = reviews_train.target[:1000]\n",
    "y_test = reviews_test.target[:1000]"
   ]
  },
  {
   "cell_type": "code",
   "execution_count": null,
   "id": "403ca370",
   "metadata": {},
   "outputs": [],
   "source": [
    "# 자동으로 결과값이 리스트로 어펜드됨\n",
    "# 아래 코드를 한줄로 쓸 수 있음\n",
    "# X_train = []\n",
    "# for txt in X_train : \n",
    "#    X_train.append(txt.replace(b\"<br />\", b\" \"))\n",
    "X_train = [ txt.replace(b\"<br />\", b\" \")  for txt in X_train ]\n",
    "X_test = [ txt.replace(b\"<br />\", b\" \")  for txt in X_test ]"
   ]
  },
  {
   "cell_type": "markdown",
   "id": "72103a5c",
   "metadata": {},
   "source": [
    "## 토큰화\n",
    "- BOW : 문장을 단위로 수치화 해주는 작업"
   ]
  },
  {
   "cell_type": "markdown",
   "id": "5c738c31",
   "metadata": {},
   "source": [
    "### 예시"
   ]
  },
  {
   "cell_type": "code",
   "execution_count": null,
   "id": "14e4e644",
   "metadata": {},
   "outputs": [],
   "source": [
    "from sklearn.feature_extraction.text import CountVectorizer"
   ]
  },
  {
   "cell_type": "code",
   "execution_count": null,
   "id": "66d9c1e4",
   "metadata": {},
   "outputs": [],
   "source": [
    "testBOW = CountVectorizer()"
   ]
  },
  {
   "cell_type": "code",
   "execution_count": null,
   "id": "82c772b2",
   "metadata": {},
   "outputs": [],
   "source": [
    "text = [\n",
    "    '혹시 자소서 포함된 이력서 , 자소서 양식을 미리 받아볼수 있나요?',\n",
    "    '다음주월욜에 하는게 자소서가 좀 적혀있어야 한다는거죠..?',\n",
    "    '강의실 하나에서 다 모여서 진행하는건가요?',\n",
    "    '혜정이가 카드 스티커 모으는 거 좋아해요'        \n",
    "]"
   ]
  },
  {
   "cell_type": "code",
   "execution_count": null,
   "id": "ac3a379d",
   "metadata": {},
   "outputs": [],
   "source": [
    "# 단어사전 구축, 토큰화\n",
    "testBOW.fit(text)"
   ]
  },
  {
   "cell_type": "code",
   "execution_count": null,
   "id": "90cafbdd",
   "metadata": {},
   "outputs": [],
   "source": [
    "# 단어사전\n",
    "testBOW.vocabulary_"
   ]
  },
  {
   "cell_type": "code",
   "execution_count": null,
   "id": "94ae792e",
   "metadata": {},
   "outputs": [],
   "source": [
    "# 수치화, 벡터화\n",
    "testBOW.transform(text)"
   ]
  },
  {
   "cell_type": "code",
   "execution_count": null,
   "id": "ab1ae08e",
   "metadata": {},
   "outputs": [],
   "source": [
    "testBOW.transform(text).toarray()"
   ]
  },
  {
   "cell_type": "markdown",
   "id": "ae528bec",
   "metadata": {},
   "source": [
    "### 실제 데이터 적용"
   ]
  },
  {
   "cell_type": "code",
   "execution_count": null,
   "id": "f76ff238",
   "metadata": {},
   "outputs": [],
   "source": [
    "movie_bow = CountVectorizer(min_df = 20 ,max_df = 2000, ngram_range = (1,3))\n",
    "movie_bow.fit(X_train)\n",
    "X_train = movie_bow.transform(X_train)\n",
    "X_test = movie_bow.transform(X_test)"
   ]
  },
  {
   "cell_type": "code",
   "execution_count": null,
   "id": "f5e1e8f4",
   "metadata": {},
   "outputs": [],
   "source": [
    "X_train.shape"
   ]
  },
  {
   "cell_type": "markdown",
   "id": "91552b66",
   "metadata": {},
   "source": [
    "# 탐색적 데이터 분석"
   ]
  },
  {
   "cell_type": "markdown",
   "id": "b44952b9",
   "metadata": {},
   "source": [
    "# 모델 선택 및 하이퍼 파라미터 튜닝"
   ]
  },
  {
   "cell_type": "code",
   "execution_count": null,
   "id": "abdc4961",
   "metadata": {},
   "outputs": [],
   "source": [
    "from sklearn.tree import DecisionTreeClassifier\n",
    "from sklearn.neighbors import KNeighborsClassifier\n",
    "from sklearn.svm import LinearSVC"
   ]
  },
  {
   "cell_type": "code",
   "execution_count": null,
   "id": "2a58b4a2",
   "metadata": {},
   "outputs": [],
   "source": [
    "tree = DecisionTreeClassifier()\n",
    "svm = LinearSVC()\n",
    "knn = KNeighborsClassifier()"
   ]
  },
  {
   "cell_type": "markdown",
   "id": "00bf6124",
   "metadata": {},
   "source": [
    "## 교차검증"
   ]
  },
  {
   "cell_type": "code",
   "execution_count": null,
   "id": "572bb24d",
   "metadata": {},
   "outputs": [],
   "source": [
    "from sklearn.model_selection import cross_val_score"
   ]
  },
  {
   "cell_type": "code",
   "execution_count": null,
   "id": "c34b9207",
   "metadata": {},
   "outputs": [],
   "source": [
    "cross_val_score(tree, X_train, y_train, cv = 5).mean()"
   ]
  },
  {
   "cell_type": "code",
   "execution_count": null,
   "id": "bcb0ef80",
   "metadata": {},
   "outputs": [],
   "source": [
    "cross_val_score(svm, X_train, y_train, cv = 5).mean()"
   ]
  },
  {
   "cell_type": "code",
   "execution_count": null,
   "id": "0c673300",
   "metadata": {
    "scrolled": true
   },
   "outputs": [],
   "source": [
    "cross_val_score(knn, X_train, y_train, cv = 5).mean()"
   ]
  },
  {
   "cell_type": "markdown",
   "id": "944d45e4",
   "metadata": {},
   "source": [
    "# 학습"
   ]
  },
  {
   "cell_type": "code",
   "execution_count": null,
   "id": "c001510b",
   "metadata": {},
   "outputs": [],
   "source": [
    "svm.fit(X_train, y_train)"
   ]
  },
  {
   "cell_type": "markdown",
   "id": "dc36295c",
   "metadata": {},
   "source": [
    "# 평가"
   ]
  },
  {
   "cell_type": "code",
   "execution_count": null,
   "id": "0e55ecfe",
   "metadata": {},
   "outputs": [],
   "source": [
    "svm.score(X_train, y_train)"
   ]
  },
  {
   "cell_type": "code",
   "execution_count": null,
   "id": "2c12028d",
   "metadata": {},
   "outputs": [],
   "source": [
    "svm.score(X_test, y_test)"
   ]
  },
  {
   "cell_type": "markdown",
   "id": "81886a20",
   "metadata": {},
   "source": [
    "## 예측\n",
    "- 예측 데이터도 동일한 순서대로 처리해주어야함\n",
    "- 데이터 > 토큰화 > 수치화"
   ]
  },
  {
   "cell_type": "code",
   "execution_count": null,
   "id": "6deaf22a",
   "metadata": {},
   "outputs": [],
   "source": [
    "reviews = [\"Wow. This is one of the most mind bending things in media. It makes Age Of Ultron better, it is very funny, the characters are so suprising and it also plays well into the MCU in other ways. The episode before the final one has great writing and the final showdowns are like watching an MCU film. This whole thing would be great as an MCU film, the way it plays. The return of people blipped also was interesting here and the story of Infinity War playing into the Vision storyline and how Wanda really just wanted more time with him. It is defismtly emotional and touching. Disney+ started off right with their first MCU tie in. The moral of this is that it seems to expose witchcraft rather then embrace it, which is good. (It might be exposing it). Jesus is our only hope.\",\n",
    "            \"\"\" \"We are an unusual couple, you know.\" \"Oh, I don't think that was ever in question.\" Now, before I begin, there are many opinions of this show. Many fans and people just introduced to the MCU have strong opinions which has made this a very divided addition to the MCU. Critically, it's been praised and there aren't many people who don't like it. But with the unique approach, some have been upset for such the high ratings. What I'm trying to say is I ask you to bear with me and respect my opinion. If you differ with it, there's nothing you can do to change my mind. The absolute masterpiece that is WandaVision blends the style of classic sitcoms with the MCU, in which Wanda Maximoff and Vision - two super-powered beings living their ideal suburban lives - begin to suspect that everything is not as it seems. From that teaser at the Super Bowl (I believe) over a year ago, this had been something exciting to look forward to. Literally no one knew what this would be about going in, really. I refrained from all trailers to go in as blind as possible. What I got was more than what I could imagine. Trying something new is what I've hoped for in the MCU for a while. As much as I do love a good majority of their movies, there's a fixed setup for almost all. WandaVision is something totally different and just what we needed. Had this been a show outside of the MCU, I think it would still be brilliant. Each episode is designed to go through a different era of television. How they handled it worked incredibly well. There's not a way of trying to modernize these old sitcoms from the 1950s and so forth, so it's like a replication of classic television. The sets, costumes, and camera lens and moment are amazing at doing so. One of my favorite games while watching is trying to see what show this episode was mainly based on. Accomplishing this couldn't have been easy and I applaud them for how they managed to get the feel of each era perfectly. At the heart of this story are amazing performances. Elizabeth Olson hasn't had such an amazing display of acting since Martha Marcy May Marlene. So much emotion is put forth into Wanda that she is by far the most developed character in the MCU even if she came in late. There are some really heavy scenes and she portrayed those flawlessly. It doesn't feel much like watching a magical being, but we understand she's just another person in this world. Scene 8 showcases it all. Alongside her is Paul Bettany. With his character of Vision — a literal computer-god-being — it's hard to get complete range. He has such a good start with the series by delivering comedy. He's really funny in it (and Olsen too). Once the mystery starts to unfold, he builds more and more character until episode 5 when he unleashes his full capabilities. Never has Vision felt so human before. I'd also like to highlight Kathryn Hahn, because she's such an amazing actress. Playing the nosy-neighbor of Agnes must've been such a fun time. She takes up all the screen time she can get. I won't spoil a thing, but later on in the series she gets her moment — literally everyone's favorite moment — and you just love her even more. Teyonah Paris, Kat Dennings, and Randall Park also do well with their supporting roles. This is an ensemble piece for sure and the way they work off of each other shows dedication. It's hard to discuss so much without spoiling because certain things do need to be addressed, but I shall refrain. Story is where people have been divided. Some thought it took way too long to get into, and I just don't see why. It's a series, not a movie, so setup is much different. And if it were to have moved on quickly, the mystery element would've lost its momentum. Every episode has some sort of question leading up to the finale. That's where fan theories came in and caused even more disappointments. I support fan theories, but I don't base my expectation on the rest of the show. Even if I had some hopeful thoughts, I never expected them to show up later on. With expectation, you can only be disappointed. My suggestion is to not have anything in mind when going in. Questions kept building and that's what made this the most gripping show I had seen in such a long time. I would stay up till 2 a.m. for the release of the new episodes because I just had to know what would come next. With a series, there was more time to develop and think about plot and character. Most importantly, though, there was enough time to build upon the past episodes and make an enjoyable time for both the sitcom moments and the Marvel storyline. Sure, not every episode is as great as the one before or after. I don't think you'll ever find a show with each episode being perfect as ever. Take a highly regarded show like Breaking Bad. Many think of it as a perfect show, but it's not like they think every episode is perfect. To quote Steven Universe, one of my favorite shows, \"if every pork chop were perfect, we wouldn't have hotdogs.\" If every episode were perfect, it wouldn't have that range that it has. I don't grade a show based on each episode, but rather as a whole. And throughout the duration of WandaVision, I had an absolute blast. Marvel, Matt Shakman, and the whole crew made something unforgettable. I believe this to be the greatest thing the MCU has given us. There will never be a show quite like WandaVision. Only a few shows have gotten my perfect rating, and this ranks among them. \"\"\" ,\n",
    "          ''' ( SPOILERS) Absolute garbage and a waste of time. Full of plot twists that end up being nothing. Vision having holes in his body had nothing to do with the plot. Pietro having holes in his body had nothing to do with the plot. Pietro being from X'men was just a random coincidence. Also, every time a new male character walked into the show you knew he was either a wimp or evil. They even made pietros real last name \"bohner\" to make fun of manhood. Imagine if a female character everyone was stoked on turned out to be some random lady named \"Vachina\". Also, the physical vision just flew off for no reason, and digital vision never decided to tell wanda about his existence. Why? Lazy writing. Additionally at the end rhambeaou tells wanda \"they will never know what you sacrificed\". What the heck?! Like maybe apologize for trapping and tormenting these people every day for like a month. How on earth is wanda the victim or the \"good-guy\" in this show. She is literally a villain causing everyone pain, but it is \"ok\" because she did it out of a place of pain. Im sorry, almost all villains do evil out of a place of pain, that doesnt make it ok. Stupid, sexist show with bad plot that treats its audience like idiots. '''\n",
    "          ]"
   ]
  },
  {
   "cell_type": "code",
   "execution_count": null,
   "id": "82897ccb",
   "metadata": {},
   "outputs": [],
   "source": [
    "# 토큰화 및 수치화\n",
    "pred_review = movie_bow.transform(reviews)"
   ]
  },
  {
   "cell_type": "code",
   "execution_count": null,
   "id": "873091e2",
   "metadata": {},
   "outputs": [],
   "source": [
    "svm.predict(pred_review)"
   ]
  },
  {
   "cell_type": "markdown",
   "id": "0bd2070d",
   "metadata": {},
   "source": [
    "## 감성분석\n",
    "- 어떤 단어가 긍정 / 부정에 영향을 많이 주었는지 확인"
   ]
  },
  {
   "cell_type": "code",
   "execution_count": null,
   "id": "50aa3dc5",
   "metadata": {},
   "outputs": [],
   "source": [
    "word_weight = svm.coef_\n",
    "word_weight"
   ]
  },
  {
   "cell_type": "code",
   "execution_count": null,
   "id": "b9426266",
   "metadata": {},
   "outputs": [],
   "source": [
    "movie_bow.vocabulary_"
   ]
  },
  {
   "cell_type": "code",
   "execution_count": null,
   "id": "acaf39a9",
   "metadata": {},
   "outputs": [],
   "source": [
    "import pandas as pd\n",
    "df = pd.DataFrame([movie_bow.vocabulary_.keys(),\n",
    "                  movie_bow.vocabulary_.values()])\n",
    "df.head()"
   ]
  },
  {
   "cell_type": "code",
   "execution_count": null,
   "id": "d0fd0996",
   "metadata": {},
   "outputs": [],
   "source": [
    "# 전치 함수를 사용해서 행과 열을 뒤집음\n",
    "df = df.T\n",
    "df"
   ]
  },
  {
   "cell_type": "code",
   "execution_count": null,
   "id": "52e5e28b",
   "metadata": {},
   "outputs": [],
   "source": [
    "# 1번 컬럼의 값을 기준으로 오름차순 정렬\n",
    "df_sorted = df.sort_values(by = 1)\n",
    "df_sorted"
   ]
  },
  {
   "cell_type": "code",
   "execution_count": null,
   "id": "8caed4f5",
   "metadata": {},
   "outputs": [],
   "source": [
    "df_sorted['coef'] = word_weight.reshape(-1)"
   ]
  },
  {
   "cell_type": "code",
   "execution_count": null,
   "id": "b5ac7dfc",
   "metadata": {},
   "outputs": [],
   "source": [
    "df_sorted"
   ]
  },
  {
   "cell_type": "code",
   "execution_count": null,
   "id": "581cc728",
   "metadata": {},
   "outputs": [],
   "source": [
    "df_sorted.sort_values(by='coef', inplace=True)\n",
    "df_sorted"
   ]
  },
  {
   "cell_type": "code",
   "execution_count": null,
   "id": "a777ae20",
   "metadata": {},
   "outputs": [],
   "source": [
    "# 시각화\n",
    "top30_df = pd.concat([\n",
    "    df_sorted.head(30), # 부정단어 30개\n",
    "    df_sorted.tail(30) # 긍정단어 30개\n",
    "])"
   ]
  },
  {
   "cell_type": "code",
   "execution_count": null,
   "id": "86517972",
   "metadata": {},
   "outputs": [],
   "source": [
    "import matplotlib.pyplot as plt\n",
    "plt.figure(figsize=(15,5)) # 가로,세로 비율\n",
    "plt.bar(top30_df[0], top30_df['coef']) # x축은 단어, y축은 가중치\n",
    "plt.xticks(rotation = 90) # x축 눈금 각도 조정\n",
    "plt.show()"
   ]
  },
  {
   "cell_type": "code",
   "execution_count": null,
   "id": "dc44cf71",
   "metadata": {},
   "outputs": [],
   "source": []
  },
  {
   "cell_type": "code",
   "execution_count": null,
   "id": "a87b1222",
   "metadata": {},
   "outputs": [],
   "source": []
  },
  {
   "cell_type": "code",
   "execution_count": null,
   "id": "9080d043",
   "metadata": {},
   "outputs": [],
   "source": []
  },
  {
   "cell_type": "code",
   "execution_count": null,
   "id": "aec51b83",
   "metadata": {},
   "outputs": [],
   "source": []
  },
  {
   "cell_type": "code",
   "execution_count": null,
   "id": "1b03166c",
   "metadata": {},
   "outputs": [],
   "source": []
  }
 ],
 "metadata": {
  "kernelspec": {
   "display_name": "Python 3 (ipykernel)",
   "language": "python",
   "name": "python3"
  },
  "language_info": {
   "codemirror_mode": {
    "name": "ipython",
    "version": 3
   },
   "file_extension": ".py",
   "mimetype": "text/x-python",
   "name": "python",
   "nbconvert_exporter": "python",
   "pygments_lexer": "ipython3",
   "version": "3.9.7"
  },
  "toc": {
   "base_numbering": 1,
   "nav_menu": {},
   "number_sections": true,
   "sideBar": true,
   "skip_h1_title": false,
   "title_cell": "Table of Contents",
   "title_sidebar": "Contents",
   "toc_cell": false,
   "toc_position": {},
   "toc_section_display": true,
   "toc_window_display": true
  }
 },
 "nbformat": 4,
 "nbformat_minor": 5
}
