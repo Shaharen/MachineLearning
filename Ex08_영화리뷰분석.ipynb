{
 "cells": [
  {
   "cell_type": "markdown",
   "id": "7e4074c2",
   "metadata": {},
   "source": [
    "# 문제정의\n",
    "- 영화 리뷰 데이터셋을 활용해서 긍정리뷰와 부정리뷰를 구분\n",
    "- 긍정 / 부정 리뷰에서 자주 사용되는 단어 확인"
   ]
  },
  {
   "cell_type": "markdown",
   "id": "b99297e9",
   "metadata": {},
   "source": [
    "# 데이터 수집\n",
    "- Large movie dataset 다운로드"
   ]
  },
  {
   "cell_type": "code",
   "execution_count": 1,
   "id": "2feb7b11",
   "metadata": {},
   "outputs": [],
   "source": [
    "# 파일을 읽어오는 함수\n",
    "from sklearn.datasets import load_files"
   ]
  },
  {
   "cell_type": "code",
   "execution_count": 2,
   "id": "dab856f7",
   "metadata": {},
   "outputs": [],
   "source": [
    "train_data_url = 'data/aclimdb/train'\n",
    "test_data_url = 'data/aclimdb/test'"
   ]
  },
  {
   "cell_type": "code",
   "execution_count": 3,
   "id": "b7e067af",
   "metadata": {},
   "outputs": [],
   "source": [
    "reviews_train = load_files(train_data_url , shuffle = True)\n",
    "reviews_test = load_files(test_data_url , shuffle = True)"
   ]
  },
  {
   "cell_type": "code",
   "execution_count": 4,
   "id": "27384c56",
   "metadata": {},
   "outputs": [
    {
     "data": {
      "text/plain": [
       "dict_keys(['data', 'filenames', 'target_names', 'target', 'DESCR'])"
      ]
     },
     "execution_count": 4,
     "metadata": {},
     "output_type": "execute_result"
    }
   ],
   "source": [
    "reviews_train.keys()"
   ]
  },
  {
   "cell_type": "code",
   "execution_count": 5,
   "id": "0a6ae62c",
   "metadata": {},
   "outputs": [
    {
     "data": {
      "text/plain": [
       "25000"
      ]
     },
     "execution_count": 5,
     "metadata": {},
     "output_type": "execute_result"
    }
   ],
   "source": [
    "len(reviews_train.data)"
   ]
  },
  {
   "cell_type": "code",
   "execution_count": 6,
   "id": "e1631ec7",
   "metadata": {},
   "outputs": [
    {
     "data": {
      "text/plain": [
       "b\"Zero Day leads you to think, even re-think why two boys/young men would do what they did - commit mutual suicide via slaughtering their classmates. It captures what must be beyond a bizarre mode of being for two humans who have decided to withdraw from common civility in order to define their own/mutual world via coupled destruction.<br /><br />It is not a perfect movie but given what money/time the filmmaker and actors had - it is a remarkable product. In terms of explaining the motives and actions of the two young suicide/murderers it is better than 'Elephant' - in terms of being a film that gets under our 'rationalistic' skin it is a far, far better film than almost anything you are likely to see. <br /><br />Flawed but honest with a terrible honesty.\""
      ]
     },
     "execution_count": 6,
     "metadata": {},
     "output_type": "execute_result"
    }
   ],
   "source": [
    "reviews_train.data[0]"
   ]
  },
  {
   "cell_type": "code",
   "execution_count": 7,
   "id": "c9ba3656",
   "metadata": {},
   "outputs": [
    {
     "data": {
      "text/plain": [
       "array([1, 0, 1, ..., 0, 0, 0])"
      ]
     },
     "execution_count": 7,
     "metadata": {},
     "output_type": "execute_result"
    }
   ],
   "source": [
    "# 0이 부정 1이 긍정\n",
    "reviews_train.target"
   ]
  },
  {
   "cell_type": "markdown",
   "id": "bf6984e1",
   "metadata": {},
   "source": [
    "# 데이터 전처리"
   ]
  },
  {
   "cell_type": "code",
   "execution_count": 8,
   "id": "d1352c52",
   "metadata": {},
   "outputs": [
    {
     "data": {
      "text/plain": [
       "b\"Zero Day leads you to think, even re-think why two boys/young men would do what they did - commit mutual suicide via slaughtering their classmates. It captures what must be beyond a bizarre mode of being for two humans who have decided to withdraw from common civility in order to define their own/mutual world via coupled destruction.<br /><br />It is not a perfect movie but given what money/time the filmmaker and actors had - it is a remarkable product. In terms of explaining the motives and actions of the two young suicide/murderers it is better than 'Elephant' - in terms of being a film that gets under our 'rationalistic' skin it is a far, far better film than almost anything you are likely to see. <br /><br />Flawed but honest with a terrible honesty.\""
      ]
     },
     "execution_count": 8,
     "metadata": {},
     "output_type": "execute_result"
    }
   ],
   "source": [
    "reviews_train.data[0]"
   ]
  },
  {
   "cell_type": "markdown",
   "id": "953829cc",
   "metadata": {},
   "source": [
    "## 태그 제거\n",
    "- br 태그를 띄어쓰기로 변경"
   ]
  },
  {
   "cell_type": "code",
   "execution_count": 9,
   "id": "60358542",
   "metadata": {},
   "outputs": [
    {
     "data": {
      "text/plain": [
       "b\"Zero Day leads you to think, even re-think why two boys/young men would do what they did - commit mutual suicide via slaughtering their classmates. It captures what must be beyond a bizarre mode of being for two humans who have decided to withdraw from common civility in order to define their own/mutual world via coupled destruction.  It is not a perfect movie but given what money/time the filmmaker and actors had - it is a remarkable product. In terms of explaining the motives and actions of the two young suicide/murderers it is better than 'Elephant' - in terms of being a film that gets under our 'rationalistic' skin it is a far, far better film than almost anything you are likely to see.   Flawed but honest with a terrible honesty.\""
      ]
     },
     "execution_count": 9,
     "metadata": {},
     "output_type": "execute_result"
    }
   ],
   "source": [
    "# 바이트형태 리플레이스\n",
    "reviews_train.data[0].replace(b'<br />' , b' ')"
   ]
  },
  {
   "cell_type": "code",
   "execution_count": 10,
   "id": "b9ae13bd",
   "metadata": {},
   "outputs": [],
   "source": [
    "X_train = reviews_train.data[:1000]\n",
    "X_test = reviews_test.data[:1000]"
   ]
  },
  {
   "cell_type": "code",
   "execution_count": 11,
   "id": "b68a13db",
   "metadata": {},
   "outputs": [],
   "source": [
    "y_train = reviews_train.target[:1000]\n",
    "y_test = reviews_test.target[:1000]"
   ]
  },
  {
   "cell_type": "code",
   "execution_count": 12,
   "id": "27199991",
   "metadata": {},
   "outputs": [],
   "source": [
    "# 자동으로 결과값이 리스트로 어펜드됨\n",
    "# 아래 코드를 한줄로 쓸 수 있음\n",
    "# X_train = []\n",
    "# for txt in X_train : \n",
    "#    X_train.append(txt.replace(b\"<br />\", b\" \"))\n",
    "X_train = [ txt.replace(b\"<br />\", b\" \")  for txt in X_train ]\n",
    "X_test = [ txt.replace(b\"<br />\", b\" \")  for txt in X_test ]"
   ]
  },
  {
   "cell_type": "markdown",
   "id": "607721cb",
   "metadata": {},
   "source": [
    "## 토큰화\n",
    "- BOW : 문장을 단위로 수치화 해주는 작업"
   ]
  },
  {
   "cell_type": "markdown",
   "id": "8abfae5b",
   "metadata": {},
   "source": [
    "### 예시"
   ]
  },
  {
   "cell_type": "code",
   "execution_count": 13,
   "id": "8f42704b",
   "metadata": {},
   "outputs": [],
   "source": [
    "from sklearn.feature_extraction.text import CountVectorizer"
   ]
  },
  {
   "cell_type": "code",
   "execution_count": 14,
   "id": "314cc061",
   "metadata": {},
   "outputs": [],
   "source": [
    "testBOW = CountVectorizer()"
   ]
  },
  {
   "cell_type": "code",
   "execution_count": 15,
   "id": "4730856f",
   "metadata": {},
   "outputs": [],
   "source": [
    "text = [\n",
    "    '혹시 자소서 포함된 이력서 , 자소서 양식을 미리 받아볼수 있나요?',\n",
    "    '다음주월욜에 하는게 자소서가 좀 적혀있어야 한다는거죠..?',\n",
    "    '강의실 하나에서 다 모여서 진행하는건가요?',\n",
    "    '혜정이가 카드 스티커 모으는 거 좋아해요'        \n",
    "]"
   ]
  },
  {
   "cell_type": "code",
   "execution_count": 16,
   "id": "4883e810",
   "metadata": {},
   "outputs": [
    {
     "data": {
      "text/plain": [
       "CountVectorizer()"
      ]
     },
     "execution_count": 16,
     "metadata": {},
     "output_type": "execute_result"
    }
   ],
   "source": [
    "# 단어사전 구축, 토큰화\n",
    "testBOW.fit(text)"
   ]
  },
  {
   "cell_type": "code",
   "execution_count": 17,
   "id": "ee21fa53",
   "metadata": {},
   "outputs": [
    {
     "data": {
      "text/plain": [
       "{'혹시': 21,\n",
       " '자소서': 10,\n",
       " '포함된': 16,\n",
       " '이력서': 8,\n",
       " '양식을': 7,\n",
       " '미리': 4,\n",
       " '받아볼수': 5,\n",
       " '있나요': 9,\n",
       " '다음주월욜에': 1,\n",
       " '하는게': 18,\n",
       " '자소서가': 11,\n",
       " '적혀있어야': 12,\n",
       " '한다는거죠': 19,\n",
       " '강의실': 0,\n",
       " '하나에서': 17,\n",
       " '모여서': 2,\n",
       " '진행하는건가요': 14,\n",
       " '혜정이가': 20,\n",
       " '카드': 15,\n",
       " '스티커': 6,\n",
       " '모으는': 3,\n",
       " '좋아해요': 13}"
      ]
     },
     "execution_count": 17,
     "metadata": {},
     "output_type": "execute_result"
    }
   ],
   "source": [
    "# 단어사전\n",
    "testBOW.vocabulary_"
   ]
  },
  {
   "cell_type": "code",
   "execution_count": 18,
   "id": "a7bb7dc6",
   "metadata": {},
   "outputs": [
    {
     "data": {
      "text/plain": [
       "<4x22 sparse matrix of type '<class 'numpy.int64'>'\n",
       "\twith 22 stored elements in Compressed Sparse Row format>"
      ]
     },
     "execution_count": 18,
     "metadata": {},
     "output_type": "execute_result"
    }
   ],
   "source": [
    "# 수치화, 벡터화\n",
    "testBOW.transform(text)"
   ]
  },
  {
   "cell_type": "code",
   "execution_count": 19,
   "id": "f3cdc5fc",
   "metadata": {},
   "outputs": [
    {
     "data": {
      "text/plain": [
       "array([[0, 0, 0, 0, 1, 1, 0, 1, 1, 1, 2, 0, 0, 0, 0, 0, 1, 0, 0, 0, 0, 1],\n",
       "       [0, 1, 0, 0, 0, 0, 0, 0, 0, 0, 0, 1, 1, 0, 0, 0, 0, 0, 1, 1, 0, 0],\n",
       "       [1, 0, 1, 0, 0, 0, 0, 0, 0, 0, 0, 0, 0, 0, 1, 0, 0, 1, 0, 0, 0, 0],\n",
       "       [0, 0, 0, 1, 0, 0, 1, 0, 0, 0, 0, 0, 0, 1, 0, 1, 0, 0, 0, 0, 1, 0]],\n",
       "      dtype=int64)"
      ]
     },
     "execution_count": 19,
     "metadata": {},
     "output_type": "execute_result"
    }
   ],
   "source": [
    "testBOW.transform(text).toarray()"
   ]
  },
  {
   "cell_type": "markdown",
   "id": "3a978c62",
   "metadata": {},
   "source": [
    "### 실제 데이터 적용"
   ]
  },
  {
   "cell_type": "code",
   "execution_count": 21,
   "id": "76c6eac9",
   "metadata": {},
   "outputs": [],
   "source": [
    "movie_bow = CountVectorizer()\n",
    "movie_bow.fit(X_train)\n",
    "X_train = movie_bow.transform(X_train)\n",
    "X_test = movie_bow.transform(X_test)"
   ]
  },
  {
   "cell_type": "code",
   "execution_count": 22,
   "id": "49453f57",
   "metadata": {},
   "outputs": [
    {
     "data": {
      "text/plain": [
       "(1000, 17994)"
      ]
     },
     "execution_count": 22,
     "metadata": {},
     "output_type": "execute_result"
    }
   ],
   "source": [
    "X_train.shape"
   ]
  },
  {
   "cell_type": "code",
   "execution_count": null,
   "id": "4afd1b18",
   "metadata": {},
   "outputs": [],
   "source": []
  },
  {
   "cell_type": "code",
   "execution_count": null,
   "id": "813ca87e",
   "metadata": {},
   "outputs": [],
   "source": []
  },
  {
   "cell_type": "code",
   "execution_count": null,
   "id": "b45ea27a",
   "metadata": {},
   "outputs": [],
   "source": []
  },
  {
   "cell_type": "code",
   "execution_count": null,
   "id": "14ec3a8f",
   "metadata": {},
   "outputs": [],
   "source": []
  },
  {
   "cell_type": "code",
   "execution_count": null,
   "id": "0b593112",
   "metadata": {},
   "outputs": [],
   "source": []
  },
  {
   "cell_type": "code",
   "execution_count": null,
   "id": "e5021541",
   "metadata": {},
   "outputs": [],
   "source": []
  },
  {
   "cell_type": "code",
   "execution_count": null,
   "id": "f5848077",
   "metadata": {},
   "outputs": [],
   "source": []
  }
 ],
 "metadata": {
  "kernelspec": {
   "display_name": "Python 3 (ipykernel)",
   "language": "python",
   "name": "python3"
  },
  "language_info": {
   "codemirror_mode": {
    "name": "ipython",
    "version": 3
   },
   "file_extension": ".py",
   "mimetype": "text/x-python",
   "name": "python",
   "nbconvert_exporter": "python",
   "pygments_lexer": "ipython3",
   "version": "3.9.7"
  },
  "toc": {
   "base_numbering": 1,
   "nav_menu": {},
   "number_sections": true,
   "sideBar": true,
   "skip_h1_title": false,
   "title_cell": "Table of Contents",
   "title_sidebar": "Contents",
   "toc_cell": false,
   "toc_position": {},
   "toc_section_display": true,
   "toc_window_display": true
  }
 },
 "nbformat": 4,
 "nbformat_minor": 5
}
