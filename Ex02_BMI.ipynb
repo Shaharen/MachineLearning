{
 "cells": [
  {
   "cell_type": "markdown",
   "id": "baaf6e13",
   "metadata": {},
   "source": [
    "# 문제정의\n",
    "- 비만을 판단하는 모델을 만들자\n",
    "- 분류문제로 접근"
   ]
  },
  {
   "cell_type": "markdown",
   "id": "5c88f28d",
   "metadata": {},
   "source": [
    "# 데이터 수집\n",
    "- csv 파일로 데이터 수집\n",
    "- 500명에 대한 키, 몸무게, 성별, 비만도 데이터"
   ]
  },
  {
   "cell_type": "code",
   "execution_count": 1,
   "id": "aaf6d15e",
   "metadata": {},
   "outputs": [
    {
     "data": {
      "text/html": [
       "<div>\n",
       "<style scoped>\n",
       "    .dataframe tbody tr th:only-of-type {\n",
       "        vertical-align: middle;\n",
       "    }\n",
       "\n",
       "    .dataframe tbody tr th {\n",
       "        vertical-align: top;\n",
       "    }\n",
       "\n",
       "    .dataframe thead th {\n",
       "        text-align: right;\n",
       "    }\n",
       "</style>\n",
       "<table border=\"1\" class=\"dataframe\">\n",
       "  <thead>\n",
       "    <tr style=\"text-align: right;\">\n",
       "      <th></th>\n",
       "      <th>Gender</th>\n",
       "      <th>Height</th>\n",
       "      <th>Weight</th>\n",
       "      <th>Label</th>\n",
       "    </tr>\n",
       "  </thead>\n",
       "  <tbody>\n",
       "    <tr>\n",
       "      <th>0</th>\n",
       "      <td>Male</td>\n",
       "      <td>174</td>\n",
       "      <td>96</td>\n",
       "      <td>Obesity</td>\n",
       "    </tr>\n",
       "    <tr>\n",
       "      <th>1</th>\n",
       "      <td>Male</td>\n",
       "      <td>189</td>\n",
       "      <td>87</td>\n",
       "      <td>Normal</td>\n",
       "    </tr>\n",
       "    <tr>\n",
       "      <th>2</th>\n",
       "      <td>Female</td>\n",
       "      <td>185</td>\n",
       "      <td>110</td>\n",
       "      <td>Obesity</td>\n",
       "    </tr>\n",
       "    <tr>\n",
       "      <th>3</th>\n",
       "      <td>Female</td>\n",
       "      <td>195</td>\n",
       "      <td>104</td>\n",
       "      <td>Overweight</td>\n",
       "    </tr>\n",
       "    <tr>\n",
       "      <th>4</th>\n",
       "      <td>Male</td>\n",
       "      <td>149</td>\n",
       "      <td>61</td>\n",
       "      <td>Overweight</td>\n",
       "    </tr>\n",
       "  </tbody>\n",
       "</table>\n",
       "</div>"
      ],
      "text/plain": [
       "   Gender  Height  Weight       Label\n",
       "0    Male     174      96     Obesity\n",
       "1    Male     189      87      Normal\n",
       "2  Female     185     110     Obesity\n",
       "3  Female     195     104  Overweight\n",
       "4    Male     149      61  Overweight"
      ]
     },
     "execution_count": 1,
     "metadata": {},
     "output_type": "execute_result"
    }
   ],
   "source": [
    "import pandas as pd\n",
    "bmi = pd.read_csv('./data/bmi_500.csv')\n",
    "bmi.head()"
   ]
  },
  {
   "cell_type": "markdown",
   "id": "5d9763de",
   "metadata": {},
   "source": [
    "# 데이터 전처리\n",
    "- 결측치 확인\n",
    "- 이상치 확인"
   ]
  },
  {
   "cell_type": "markdown",
   "id": "e7a8b57a",
   "metadata": {},
   "source": [
    "## 결측치 확인\n",
    "- info()"
   ]
  },
  {
   "cell_type": "code",
   "execution_count": 2,
   "id": "859ef2ed",
   "metadata": {},
   "outputs": [
    {
     "name": "stdout",
     "output_type": "stream",
     "text": [
      "<class 'pandas.core.frame.DataFrame'>\n",
      "RangeIndex: 500 entries, 0 to 499\n",
      "Data columns (total 4 columns):\n",
      " #   Column  Non-Null Count  Dtype \n",
      "---  ------  --------------  ----- \n",
      " 0   Gender  500 non-null    object\n",
      " 1   Height  500 non-null    int64 \n",
      " 2   Weight  500 non-null    int64 \n",
      " 3   Label   500 non-null    object\n",
      "dtypes: int64(2), object(2)\n",
      "memory usage: 15.8+ KB\n"
     ]
    }
   ],
   "source": [
    "# RangeIndex : 총 자료개수, 부여된 인덱스 번호\n",
    "# 순서, 컬럼명, NN의 개수, 데이터타입 이 출력됨\n",
    "bmi.info()"
   ]
  },
  {
   "cell_type": "markdown",
   "id": "fd3ad750",
   "metadata": {},
   "source": [
    "## 이상치 확인\n",
    "- describe()\n",
    "- 수치형 데이터에서만 확인 가능"
   ]
  },
  {
   "cell_type": "code",
   "execution_count": 3,
   "id": "eca8d2c3",
   "metadata": {},
   "outputs": [
    {
     "data": {
      "text/html": [
       "<div>\n",
       "<style scoped>\n",
       "    .dataframe tbody tr th:only-of-type {\n",
       "        vertical-align: middle;\n",
       "    }\n",
       "\n",
       "    .dataframe tbody tr th {\n",
       "        vertical-align: top;\n",
       "    }\n",
       "\n",
       "    .dataframe thead th {\n",
       "        text-align: right;\n",
       "    }\n",
       "</style>\n",
       "<table border=\"1\" class=\"dataframe\">\n",
       "  <thead>\n",
       "    <tr style=\"text-align: right;\">\n",
       "      <th></th>\n",
       "      <th>Height</th>\n",
       "      <th>Weight</th>\n",
       "    </tr>\n",
       "  </thead>\n",
       "  <tbody>\n",
       "    <tr>\n",
       "      <th>count</th>\n",
       "      <td>500.000000</td>\n",
       "      <td>500.000000</td>\n",
       "    </tr>\n",
       "    <tr>\n",
       "      <th>mean</th>\n",
       "      <td>169.944000</td>\n",
       "      <td>106.000000</td>\n",
       "    </tr>\n",
       "    <tr>\n",
       "      <th>std</th>\n",
       "      <td>16.375261</td>\n",
       "      <td>32.382607</td>\n",
       "    </tr>\n",
       "    <tr>\n",
       "      <th>min</th>\n",
       "      <td>140.000000</td>\n",
       "      <td>50.000000</td>\n",
       "    </tr>\n",
       "    <tr>\n",
       "      <th>25%</th>\n",
       "      <td>156.000000</td>\n",
       "      <td>80.000000</td>\n",
       "    </tr>\n",
       "    <tr>\n",
       "      <th>50%</th>\n",
       "      <td>170.500000</td>\n",
       "      <td>106.000000</td>\n",
       "    </tr>\n",
       "    <tr>\n",
       "      <th>75%</th>\n",
       "      <td>184.000000</td>\n",
       "      <td>136.000000</td>\n",
       "    </tr>\n",
       "    <tr>\n",
       "      <th>max</th>\n",
       "      <td>199.000000</td>\n",
       "      <td>160.000000</td>\n",
       "    </tr>\n",
       "  </tbody>\n",
       "</table>\n",
       "</div>"
      ],
      "text/plain": [
       "           Height      Weight\n",
       "count  500.000000  500.000000\n",
       "mean   169.944000  106.000000\n",
       "std     16.375261   32.382607\n",
       "min    140.000000   50.000000\n",
       "25%    156.000000   80.000000\n",
       "50%    170.500000  106.000000\n",
       "75%    184.000000  136.000000\n",
       "max    199.000000  160.000000"
      ]
     },
     "execution_count": 3,
     "metadata": {},
     "output_type": "execute_result"
    }
   ],
   "source": [
    "bmi.describe()"
   ]
  },
  {
   "cell_type": "code",
   "execution_count": 4,
   "id": "a23e566c",
   "metadata": {},
   "outputs": [],
   "source": [
    "# 1. std 확인하기\n",
    "# - 클수록 이상치가 있을 확률이 존재\n",
    "# 2. mean과 50% 비교\n",
    "# 3. min, 25, 50, 75, max 간의 범위 차이"
   ]
  },
  {
   "cell_type": "markdown",
   "id": "9836c9b1",
   "metadata": {},
   "source": [
    "# 탐색적 데이터 분석\n",
    "- 시각화를 통해서 원하는 정보를 한눈에 보자\n",
    "- 비만도별로 데이터가 잘 나누어져있는지 확인"
   ]
  },
  {
   "cell_type": "markdown",
   "id": "2a923e56",
   "metadata": {},
   "source": [
    "## 비만도 등급 확인"
   ]
  },
  {
   "cell_type": "code",
   "execution_count": 5,
   "id": "69457d61",
   "metadata": {},
   "outputs": [
    {
     "data": {
      "text/plain": [
       "array(['Obesity', 'Normal', 'Overweight', 'Extreme Obesity', 'Weak',\n",
       "       'Extremely Weak'], dtype=object)"
      ]
     },
     "execution_count": 5,
     "metadata": {},
     "output_type": "execute_result"
    }
   ],
   "source": [
    "bmi['Label'].unique()"
   ]
  },
  {
   "cell_type": "markdown",
   "id": "87d381e4",
   "metadata": {},
   "source": [
    "## Weak인 사람들을 그래프로 확인해보기"
   ]
  },
  {
   "cell_type": "code",
   "execution_count": 6,
   "id": "64a5519a",
   "metadata": {
    "scrolled": true
   },
   "outputs": [],
   "source": [
    "scatter_data = bmi[ bmi['Label'] == 'Weak' ]"
   ]
  },
  {
   "cell_type": "code",
   "execution_count": 7,
   "id": "12b078d7",
   "metadata": {},
   "outputs": [],
   "source": [
    "import matplotlib.pyplot as plt"
   ]
  },
  {
   "cell_type": "code",
   "execution_count": 8,
   "id": "47ba0a88",
   "metadata": {},
   "outputs": [
    {
     "data": {
      "image/png": "[encoded data removed]",
      "text/plain": [
       "<Figure size 432x288 with 1 Axes>"
      ]
     },
     "metadata": {
      "needs_background": "light"
     },
     "output_type": "display_data"
    }
   ],
   "source": [
    "plt.scatter( scatter_data['Height'] , scatter_data['Weight'] , color = 'blue' , label = 'Weak')\n",
    "plt.legend()\n",
    "plt.show()"
   ]
  },
  {
   "cell_type": "markdown",
   "id": "21686a48",
   "metadata": {},
   "source": [
    "## Overweight 그래프 그리기"
   ]
  },
  {
   "cell_type": "code",
   "execution_count": 9,
   "id": "40b97f1b",
   "metadata": {},
   "outputs": [
    {
     "data": {
      "image/png": "[encoded data removed]",
      "text/plain": [
       "<Figure size 432x288 with 1 Axes>"
      ]
     },
     "metadata": {
      "needs_background": "light"
     },
     "output_type": "display_data"
    }
   ],
   "source": [
    "scatter_data = bmi[ bmi['Label'] == 'Overweight' ]\n",
    "plt.scatter( scatter_data['Height'] , scatter_data['Weight'] , color = '#f900f9' , label = 'Overweight')\n",
    "plt.legend()\n",
    "plt.show()"
   ]
  },
  {
   "cell_type": "markdown",
   "id": "a40cb7bf",
   "metadata": {},
   "source": [
    "## 전체 그래프 그리기"
   ]
  },
  {
   "cell_type": "code",
   "execution_count": 10,
   "id": "3dc1e475",
   "metadata": {},
   "outputs": [
    {
     "data": {
      "image/png": "[encoded data removed]",
      "text/plain": [
       "<Figure size 432x288 with 1 Axes>"
      ]
     },
     "metadata": {
      "needs_background": "light"
     },
     "output_type": "display_data"
    }
   ],
   "source": [
    "scatter_data = bmi[ bmi['Label'] == 'Weak' ]\n",
    "plt.scatter( scatter_data['Height'] , scatter_data['Weight'] , color = 'blue' , label = 'Weak')\n",
    "plt.legend()\n",
    "\n",
    "scatter_data = bmi[ bmi['Label'] == 'Overweight' ]\n",
    "plt.scatter( scatter_data['Height'] , scatter_data['Weight'] , color = '#f900f9' , label = 'Overweight')\n",
    "plt.legend()\n",
    "plt.show()"
   ]
  },
  {
   "cell_type": "markdown",
   "id": "57eb652f",
   "metadata": {},
   "source": [
    "### 반복되는 부분 함수로 만들기"
   ]
  },
  {
   "cell_type": "code",
   "execution_count": 11,
   "id": "f55d20ef",
   "metadata": {},
   "outputs": [],
   "source": [
    "def myScatter(label, color) :\n",
    "    scatter_data = bmi[ bmi['Label'] == label ]\n",
    "    plt.scatter( scatter_data['Height'] , scatter_data['Weight'] , color = color , label = label)\n",
    "    plt.legend()"
   ]
  },
  {
   "cell_type": "code",
   "execution_count": 12,
   "id": "cc425a9a",
   "metadata": {},
   "outputs": [
    {
     "data": {
      "image/png": "[encoded data removed]",
      "text/plain": [
       "<Figure size 864x576 with 1 Axes>"
      ]
     },
     "metadata": {
      "needs_background": "light"
     },
     "output_type": "display_data"
    }
   ],
   "source": [
    "plt.figure(figsize = (12, 8))\n",
    "myScatter('Extremely Weak','#f900f9')\n",
    "myScatter('Weak','#191970')\n",
    "myScatter('Normal','#00FF00')\n",
    "myScatter('Overweight','#EAAB5B')\n",
    "myScatter('Obesity','#FF1493')\n",
    "myScatter('Extreme Obesity','#0000FF')\n",
    "plt.show()"
   ]
  },
  {
   "cell_type": "markdown",
   "id": "8fb809b1",
   "metadata": {},
   "source": [
    "## 이상치 확인하기"
   ]
  },
  {
   "cell_type": "code",
   "execution_count": 13,
   "id": "d8898d22",
   "metadata": {},
   "outputs": [
    {
     "data": {
      "text/html": [
       "<div>\n",
       "<style scoped>\n",
       "    .dataframe tbody tr th:only-of-type {\n",
       "        vertical-align: middle;\n",
       "    }\n",
       "\n",
       "    .dataframe tbody tr th {\n",
       "        vertical-align: top;\n",
       "    }\n",
       "\n",
       "    .dataframe thead th {\n",
       "        text-align: right;\n",
       "    }\n",
       "</style>\n",
       "<table border=\"1\" class=\"dataframe\">\n",
       "  <thead>\n",
       "    <tr style=\"text-align: right;\">\n",
       "      <th></th>\n",
       "      <th>Gender</th>\n",
       "      <th>Height</th>\n",
       "      <th>Weight</th>\n",
       "      <th>Label</th>\n",
       "    </tr>\n",
       "  </thead>\n",
       "  <tbody>\n",
       "    <tr>\n",
       "      <th>165</th>\n",
       "      <td>Male</td>\n",
       "      <td>181</td>\n",
       "      <td>78</td>\n",
       "      <td>Normal</td>\n",
       "    </tr>\n",
       "    <tr>\n",
       "      <th>231</th>\n",
       "      <td>Female</td>\n",
       "      <td>153</td>\n",
       "      <td>78</td>\n",
       "      <td>Normal</td>\n",
       "    </tr>\n",
       "    <tr>\n",
       "      <th>234</th>\n",
       "      <td>Male</td>\n",
       "      <td>145</td>\n",
       "      <td>78</td>\n",
       "      <td>Obesity</td>\n",
       "    </tr>\n",
       "  </tbody>\n",
       "</table>\n",
       "</div>"
      ],
      "text/plain": [
       "     Gender  Height  Weight    Label\n",
       "165    Male     181      78   Normal\n",
       "231  Female     153      78   Normal\n",
       "234    Male     145      78  Obesity"
      ]
     },
     "execution_count": 13,
     "metadata": {},
     "output_type": "execute_result"
    }
   ],
   "source": [
    "# 키 : 153cm\n",
    "# 몸무게 : 78kg\n",
    "bmi[ bmi['Weight'] == 78]"
   ]
  },
  {
   "cell_type": "markdown",
   "id": "c6ceeff6",
   "metadata": {},
   "source": [
    "## 이상치 값 변경"
   ]
  },
  {
   "cell_type": "code",
   "execution_count": 14,
   "id": "a9e99375",
   "metadata": {},
   "outputs": [],
   "source": [
    "bmi.iloc[231 , 3] = 'Obesity'"
   ]
  },
  {
   "cell_type": "code",
   "execution_count": 15,
   "id": "5316e001",
   "metadata": {},
   "outputs": [
    {
     "data": {
      "text/plain": [
       "'Obesity'"
      ]
     },
     "execution_count": 15,
     "metadata": {},
     "output_type": "execute_result"
    }
   ],
   "source": [
    "# 위 쪽도 다시 적용해줌\n",
    "bmi.iloc[231 , 3]"
   ]
  },
  {
   "cell_type": "markdown",
   "id": "412e73c3",
   "metadata": {},
   "source": [
    "# 모델 선택 및 하이퍼 파라미터 튜닝\n",
    "- 1 ~ 4 데이터부분\n",
    "- 5 ~ 7 모델부분\n",
    "1. 데이터를 문제와 답으로 분리\n",
    "2. 훈련셋과 평가셋으로 분리\n",
    "3. 모델 생성 / 하이퍼 파라미터 튜닝"
   ]
  },
  {
   "cell_type": "code",
   "execution_count": 16,
   "id": "d7b9ea0a",
   "metadata": {},
   "outputs": [
    {
     "data": {
      "text/html": [
       "<div>\n",
       "<style scoped>\n",
       "    .dataframe tbody tr th:only-of-type {\n",
       "        vertical-align: middle;\n",
       "    }\n",
       "\n",
       "    .dataframe tbody tr th {\n",
       "        vertical-align: top;\n",
       "    }\n",
       "\n",
       "    .dataframe thead th {\n",
       "        text-align: right;\n",
       "    }\n",
       "</style>\n",
       "<table border=\"1\" class=\"dataframe\">\n",
       "  <thead>\n",
       "    <tr style=\"text-align: right;\">\n",
       "      <th></th>\n",
       "      <th>Gender</th>\n",
       "      <th>Height</th>\n",
       "      <th>Weight</th>\n",
       "      <th>Label</th>\n",
       "    </tr>\n",
       "  </thead>\n",
       "  <tbody>\n",
       "    <tr>\n",
       "      <th>0</th>\n",
       "      <td>Male</td>\n",
       "      <td>174</td>\n",
       "      <td>96</td>\n",
       "      <td>Obesity</td>\n",
       "    </tr>\n",
       "    <tr>\n",
       "      <th>1</th>\n",
       "      <td>Male</td>\n",
       "      <td>189</td>\n",
       "      <td>87</td>\n",
       "      <td>Normal</td>\n",
       "    </tr>\n",
       "    <tr>\n",
       "      <th>2</th>\n",
       "      <td>Female</td>\n",
       "      <td>185</td>\n",
       "      <td>110</td>\n",
       "      <td>Obesity</td>\n",
       "    </tr>\n",
       "    <tr>\n",
       "      <th>3</th>\n",
       "      <td>Female</td>\n",
       "      <td>195</td>\n",
       "      <td>104</td>\n",
       "      <td>Overweight</td>\n",
       "    </tr>\n",
       "    <tr>\n",
       "      <th>4</th>\n",
       "      <td>Male</td>\n",
       "      <td>149</td>\n",
       "      <td>61</td>\n",
       "      <td>Overweight</td>\n",
       "    </tr>\n",
       "  </tbody>\n",
       "</table>\n",
       "</div>"
      ],
      "text/plain": [
       "   Gender  Height  Weight       Label\n",
       "0    Male     174      96     Obesity\n",
       "1    Male     189      87      Normal\n",
       "2  Female     185     110     Obesity\n",
       "3  Female     195     104  Overweight\n",
       "4    Male     149      61  Overweight"
      ]
     },
     "execution_count": 16,
     "metadata": {},
     "output_type": "execute_result"
    }
   ],
   "source": [
    "bmi.head()"
   ]
  },
  {
   "cell_type": "markdown",
   "id": "e80b7826",
   "metadata": {},
   "source": [
    "## 문제와 정답으로 분리"
   ]
  },
  {
   "cell_type": "code",
   "execution_count": 17,
   "id": "03c575c1",
   "metadata": {},
   "outputs": [],
   "source": [
    "X = bmi.loc[ : , 'Height' : 'Weight']\n",
    "y = bmi.loc[ : , 'Label']"
   ]
  },
  {
   "cell_type": "code",
   "execution_count": 18,
   "id": "61f74447",
   "metadata": {},
   "outputs": [
    {
     "data": {
      "text/plain": [
       "((500, 2), (500,))"
      ]
     },
     "execution_count": 18,
     "metadata": {},
     "output_type": "execute_result"
    }
   ],
   "source": [
    "X.shape , y.shape"
   ]
  },
  {
   "cell_type": "markdown",
   "id": "99339551",
   "metadata": {},
   "source": [
    "## 훈련과 평가로 분리\n",
    "- 훈련 7 : 평가 3"
   ]
  },
  {
   "cell_type": "markdown",
   "id": "833ceffd",
   "metadata": {},
   "source": [
    "### 훈련과 평가로 데이터를 나누는 이유\n",
    "- 모델에게 학습 ( 문제데이터, 정답데이터 )\n",
    "- 모델은 규칙을 찾는다 > 모델이 얼마나 정확한 규칙을 찾았는지 모름\n",
    "- 모델에게 예측 ( 새로운 데이터 ) > 잘 예측한건지 모름\n",
    "- 모델이 얼마나 규칙을 잘 찾았는지 확인하기 위함   \n",
    "--------------------------------------------------------------------\n",
    "- X(문제), y(정답)\n",
    "- X_train(훈련용 문제), y_train(훈련용 정답), X_test(평가용 문제), y_test(평가용 정답)\n",
    "- 훈련용 데이터는 모델에게 학습을 시켜서 모델이 규칙을 찾는 용도로 사용\n",
    "- 평가용 데이터 중 X_test를 머신러닝 모델에게 예측을 시킴\n",
    "- 머신러닝 모델이 예측값을 출력 -> 예측값과 y_test(평가용 정답)과 비교 -> 모델이 얼마나 규칙을 잘 찾았는지 확인"
   ]
  },
  {
   "cell_type": "code",
   "execution_count": 19,
   "id": "f9b6f035",
   "metadata": {},
   "outputs": [],
   "source": [
    "X_train = X.iloc[ :350 ]\n",
    "X_test = X.iloc[ 350: ]\n",
    "y_train = y.iloc[ :350 ]\n",
    "y_test = y.iloc[ 350: ]"
   ]
  },
  {
   "cell_type": "code",
   "execution_count": 20,
   "id": "b152fab9",
   "metadata": {},
   "outputs": [
    {
     "data": {
      "text/plain": [
       "((350, 2), (150, 2), (350,), (150,))"
      ]
     },
     "execution_count": 20,
     "metadata": {},
     "output_type": "execute_result"
    }
   ],
   "source": [
    "X_train.shape, X_test.shape, y_train.shape, y_test.shape"
   ]
  },
  {
   "cell_type": "markdown",
   "id": "ac3819ce",
   "metadata": {},
   "source": [
    "## 모델 불러오기\n",
    "- KNN : 규칙을 찾는 머신러닝 모델"
   ]
  },
  {
   "cell_type": "code",
   "execution_count": 21,
   "id": "bc6ca12f",
   "metadata": {},
   "outputs": [],
   "source": [
    "from sklearn.neighbors import KNeighborsClassifier\n",
    "knn_model = KNeighborsClassifier()"
   ]
  },
  {
   "cell_type": "markdown",
   "id": "5abe3b6f",
   "metadata": {},
   "source": [
    "# 학습"
   ]
  },
  {
   "cell_type": "code",
   "execution_count": 22,
   "id": "47f9cf0d",
   "metadata": {},
   "outputs": [
    {
     "data": {
      "text/plain": [
       "KNeighborsClassifier()"
      ]
     },
     "execution_count": 22,
     "metadata": {},
     "output_type": "execute_result"
    }
   ],
   "source": [
    "knn_model.fit(X_train, y_train)"
   ]
  },
  {
   "cell_type": "markdown",
   "id": "093b2536",
   "metadata": {},
   "source": [
    "# 평가\n",
    "- 예측\n",
    "- 모델 평가"
   ]
  },
  {
   "cell_type": "code",
   "execution_count": 23,
   "id": "4039e4f9",
   "metadata": {},
   "outputs": [
    {
     "data": {
      "text/plain": [
       "array(['Normal'], dtype=object)"
      ]
     },
     "execution_count": 23,
     "metadata": {},
     "output_type": "execute_result"
    }
   ],
   "source": [
    "# 예측\n",
    "knn_model.predict([[174,68]])"
   ]
  },
  {
   "cell_type": "code",
   "execution_count": 24,
   "id": "48120863",
   "metadata": {},
   "outputs": [
    {
     "data": {
      "text/plain": [
       "0.9066666666666666"
      ]
     },
     "execution_count": 24,
     "metadata": {},
     "output_type": "execute_result"
    }
   ],
   "source": [
    "# 예측값과 정답을 비교하여 정확도를 나타냄\n",
    "# 0에서 1사이로 표현되며 전부 맞으면 1\n",
    "# 지금은 90.6퍼센트 확률로 맞춘것\n",
    "knn_model.score(X_test, y_test)"
   ]
  },
  {
   "cell_type": "code",
   "execution_count": 25,
   "id": "30eee79c",
   "metadata": {},
   "outputs": [
    {
     "data": {
      "text/plain": [
       "0.9285714285714286"
      ]
     },
     "execution_count": 25,
     "metadata": {},
     "output_type": "execute_result"
    }
   ],
   "source": [
    "knn_model.score(X_train, y_train)"
   ]
  },
  {
   "cell_type": "markdown",
   "id": "c19717e1",
   "metadata": {},
   "source": [
    "# 성별 컬럼을 추가해서 학습하기\n",
    "- Male > 1\n",
    "- Female > 2\n",
    "- map함수 사용"
   ]
  },
  {
   "cell_type": "code",
   "execution_count": 26,
   "id": "18999e81",
   "metadata": {},
   "outputs": [
    {
     "data": {
      "text/html": [
       "<div>\n",
       "<style scoped>\n",
       "    .dataframe tbody tr th:only-of-type {\n",
       "        vertical-align: middle;\n",
       "    }\n",
       "\n",
       "    .dataframe tbody tr th {\n",
       "        vertical-align: top;\n",
       "    }\n",
       "\n",
       "    .dataframe thead th {\n",
       "        text-align: right;\n",
       "    }\n",
       "</style>\n",
       "<table border=\"1\" class=\"dataframe\">\n",
       "  <thead>\n",
       "    <tr style=\"text-align: right;\">\n",
       "      <th></th>\n",
       "      <th>Gender</th>\n",
       "      <th>Height</th>\n",
       "      <th>Weight</th>\n",
       "      <th>Label</th>\n",
       "    </tr>\n",
       "  </thead>\n",
       "  <tbody>\n",
       "    <tr>\n",
       "      <th>0</th>\n",
       "      <td>1</td>\n",
       "      <td>174</td>\n",
       "      <td>96</td>\n",
       "      <td>Obesity</td>\n",
       "    </tr>\n",
       "    <tr>\n",
       "      <th>1</th>\n",
       "      <td>1</td>\n",
       "      <td>189</td>\n",
       "      <td>87</td>\n",
       "      <td>Normal</td>\n",
       "    </tr>\n",
       "    <tr>\n",
       "      <th>2</th>\n",
       "      <td>2</td>\n",
       "      <td>185</td>\n",
       "      <td>110</td>\n",
       "      <td>Obesity</td>\n",
       "    </tr>\n",
       "    <tr>\n",
       "      <th>3</th>\n",
       "      <td>2</td>\n",
       "      <td>195</td>\n",
       "      <td>104</td>\n",
       "      <td>Overweight</td>\n",
       "    </tr>\n",
       "    <tr>\n",
       "      <th>4</th>\n",
       "      <td>1</td>\n",
       "      <td>149</td>\n",
       "      <td>61</td>\n",
       "      <td>Overweight</td>\n",
       "    </tr>\n",
       "  </tbody>\n",
       "</table>\n",
       "</div>"
      ],
      "text/plain": [
       "   Gender  Height  Weight       Label\n",
       "0       1     174      96     Obesity\n",
       "1       1     189      87      Normal\n",
       "2       2     185     110     Obesity\n",
       "3       2     195     104  Overweight\n",
       "4       1     149      61  Overweight"
      ]
     },
     "execution_count": 26,
     "metadata": {},
     "output_type": "execute_result"
    }
   ],
   "source": [
    "# map()안에 딕셔너리 형태로 써준다\n",
    "# 키값이 바꾸기 전 밸류가 바꾼 후\n",
    "# 자체 저장은 안되므로 다시 저장\n",
    "bmi[ 'Gender' ] = bmi[ 'Gender' ].map({ 'Male' : 1 , 'Female' : 2 })\n",
    "bmi.head()"
   ]
  },
  {
   "cell_type": "markdown",
   "id": "d71fa71f",
   "metadata": {},
   "source": [
    "## 문제와 정답으로 분리"
   ]
  },
  {
   "cell_type": "code",
   "execution_count": 27,
   "id": "3aba830e",
   "metadata": {},
   "outputs": [],
   "source": [
    "X = bmi.iloc[: , :-1]\n",
    "y = bmi.iloc[: , -1]"
   ]
  },
  {
   "cell_type": "markdown",
   "id": "da25f8b5",
   "metadata": {},
   "source": [
    "## 훈련과 평가로 분리"
   ]
  },
  {
   "cell_type": "code",
   "execution_count": 28,
   "id": "a3f9dc2a",
   "metadata": {},
   "outputs": [],
   "source": [
    "X_train = X.iloc[ :350 ]\n",
    "X_test = X.iloc[ 350: ]\n",
    "y_train = y.iloc[ :350 ]\n",
    "y_test = y.iloc[ 350: ]"
   ]
  },
  {
   "cell_type": "markdown",
   "id": "b3ca248f",
   "metadata": {},
   "source": [
    "## 모델 불러오기"
   ]
  },
  {
   "cell_type": "code",
   "execution_count": 29,
   "id": "d8312de9",
   "metadata": {},
   "outputs": [],
   "source": [
    "from sklearn.neighbors import KNeighborsClassifier\n",
    "knn_model = KNeighborsClassifier()"
   ]
  },
  {
   "cell_type": "markdown",
   "id": "898753cc",
   "metadata": {},
   "source": [
    "## 학습"
   ]
  },
  {
   "cell_type": "code",
   "execution_count": 30,
   "id": "9d07aaa2",
   "metadata": {},
   "outputs": [
    {
     "data": {
      "text/plain": [
       "KNeighborsClassifier()"
      ]
     },
     "execution_count": 30,
     "metadata": {},
     "output_type": "execute_result"
    }
   ],
   "source": [
    "knn_model.fit(X_train, y_train)"
   ]
  },
  {
   "cell_type": "markdown",
   "id": "68500340",
   "metadata": {},
   "source": [
    "## 평가"
   ]
  },
  {
   "cell_type": "code",
   "execution_count": 31,
   "id": "9bdb7259",
   "metadata": {},
   "outputs": [],
   "source": [
    "# 성별컬럼을 추가해서 학습을 했지만 결과가 전과 동일\n",
    "# 성별이 비만도를 예측하는데 있어서 영향을 끼치지 못함"
   ]
  },
  {
   "cell_type": "code",
   "execution_count": 32,
   "id": "226601ed",
   "metadata": {},
   "outputs": [
    {
     "data": {
      "text/plain": [
       "0.9066666666666666"
      ]
     },
     "execution_count": 32,
     "metadata": {},
     "output_type": "execute_result"
    }
   ],
   "source": [
    "knn_model.score(X_test, y_test)"
   ]
  },
  {
   "cell_type": "code",
   "execution_count": 33,
   "id": "8c3dc5a7",
   "metadata": {},
   "outputs": [
    {
     "data": {
      "text/plain": [
       "0.9285714285714286"
      ]
     },
     "execution_count": 33,
     "metadata": {},
     "output_type": "execute_result"
    }
   ],
   "source": [
    "knn_model.score(X_train, y_train)"
   ]
  }
 ],
 "metadata": {
  "kernelspec": {
   "display_name": "Python 3 (ipykernel)",
   "language": "python",
   "name": "python3"
  },
  "language_info": {
   "codemirror_mode": {
    "name": "ipython",
    "version": 3
   },
   "file_extension": ".py",
   "mimetype": "text/x-python",
   "name": "python",
   "nbconvert_exporter": "python",
   "pygments_lexer": "ipython3",
   "version": "3.9.7"
  },
  "toc": {
   "base_numbering": 1,
   "nav_menu": {},
   "number_sections": true,
   "sideBar": true,
   "skip_h1_title": false,
   "title_cell": "Table of Contents",
   "title_sidebar": "Contents",
   "toc_cell": false,
   "toc_position": {
    "height": "calc(100% - 180px)",
    "left": "10px",
    "top": "150px",
    "width": "200px"
   },
   "toc_section_display": true,
   "toc_window_display": true
  }
 },
 "nbformat": 4,
 "nbformat_minor": 5
}
