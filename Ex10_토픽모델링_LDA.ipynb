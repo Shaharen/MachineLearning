{
 "cells": [
  {
   "cell_type": "markdown",
   "id": "91bb593d",
   "metadata": {},
   "source": [
    "# 토픽모델링\n",
    "- 비지도학습\n",
    "- 하나 또는 여러가지 문서를 토픽으로 할당하는 작업\n",
    "- LDA(Latent Dirichlet Allocation, 잠재 디리클레 할당"
   ]
  },
  {
   "cell_type": "markdown",
   "id": "0aec18e7",
   "metadata": {},
   "source": [
    "# LDA\n",
    "- 자주 나타나는 단어의 그룹(토픽)을 찾는 것\n",
    "- 주제와는 거리가 멀수도 있음\n",
    "- 의미가 있는 성분을 찾는 것이기 때문"
   ]
  },
  {
   "cell_type": "code",
   "execution_count": 1,
   "id": "42a0291c",
   "metadata": {
    "collapsed": true
   },
   "outputs": [
    {
     "name": "stdout",
     "output_type": "stream",
     "text": [
      "Requirement already satisfied: pandas in c:\\users\\smhrd\\anaconda3\\envs\\test\\lib\\site-packages (1.4.1)\n",
      "Requirement already satisfied: numpy in c:\\users\\smhrd\\anaconda3\\envs\\test\\lib\\site-packages (1.22.3)\n",
      "Requirement already satisfied: sklearn in c:\\users\\smhrd\\anaconda3\\envs\\test\\lib\\site-packages (0.0)\n",
      "Collecting mglearn\n",
      "  Using cached mglearn-0.1.9.tar.gz (540 kB)\n",
      "  Preparing metadata (setup.py): started\n",
      "  Preparing metadata (setup.py): finished with status 'done'\n",
      "Requirement already satisfied: pytz>=2020.1 in c:\\users\\smhrd\\anaconda3\\envs\\test\\lib\\site-packages (from pandas) (2022.1)\n",
      "Requirement already satisfied: python-dateutil>=2.8.1 in c:\\users\\smhrd\\anaconda3\\envs\\test\\lib\\site-packages (from pandas) (2.8.2)\n",
      "Requirement already satisfied: scikit-learn in c:\\users\\smhrd\\anaconda3\\envs\\test\\lib\\site-packages (from sklearn) (1.0.2)\n",
      "Requirement already satisfied: matplotlib in c:\\users\\smhrd\\anaconda3\\envs\\test\\lib\\site-packages (from mglearn) (3.5.1)\n",
      "Requirement already satisfied: pillow in c:\\users\\smhrd\\anaconda3\\envs\\test\\lib\\site-packages (from mglearn) (9.0.1)\n",
      "Requirement already satisfied: cycler in c:\\users\\smhrd\\anaconda3\\envs\\test\\lib\\site-packages (from mglearn) (0.11.0)\n",
      "Collecting imageio\n",
      "  Downloading imageio-2.16.1-py3-none-any.whl (3.3 MB)\n",
      "     ---------------------------------------- 3.3/3.3 MB 42.7 MB/s eta 0:00:00\n",
      "Requirement already satisfied: joblib in c:\\users\\smhrd\\anaconda3\\envs\\test\\lib\\site-packages (from mglearn) (1.1.0)\n",
      "Requirement already satisfied: six>=1.5 in c:\\users\\smhrd\\anaconda3\\envs\\test\\lib\\site-packages (from python-dateutil>=2.8.1->pandas) (1.16.0)\n",
      "Requirement already satisfied: fonttools>=4.22.0 in c:\\users\\smhrd\\anaconda3\\envs\\test\\lib\\site-packages (from matplotlib->mglearn) (4.31.2)\n",
      "Requirement already satisfied: pyparsing>=2.2.1 in c:\\users\\smhrd\\anaconda3\\envs\\test\\lib\\site-packages (from matplotlib->mglearn) (3.0.4)\n",
      "Requirement already satisfied: kiwisolver>=1.0.1 in c:\\users\\smhrd\\anaconda3\\envs\\test\\lib\\site-packages (from matplotlib->mglearn) (1.4.2)\n",
      "Requirement already satisfied: packaging>=20.0 in c:\\users\\smhrd\\anaconda3\\envs\\test\\lib\\site-packages (from matplotlib->mglearn) (21.3)\n",
      "Requirement already satisfied: scipy>=1.1.0 in c:\\users\\smhrd\\anaconda3\\envs\\test\\lib\\site-packages (from scikit-learn->sklearn) (1.8.0)\n",
      "Requirement already satisfied: threadpoolctl>=2.0.0 in c:\\users\\smhrd\\anaconda3\\envs\\test\\lib\\site-packages (from scikit-learn->sklearn) (3.1.0)\n",
      "Building wheels for collected packages: mglearn\n",
      "  Building wheel for mglearn (setup.py): started\n",
      "  Building wheel for mglearn (setup.py): finished with status 'done'\n",
      "  Created wheel for mglearn: filename=mglearn-0.1.9-py2.py3-none-any.whl size=582639 sha256=7bebe3fa7e1a23c8ffd12d2f6a39e03be0900fcbb939e1f69a06321e866e4a1f\n",
      "  Stored in directory: c:\\users\\smhrd\\appdata\\local\\pip\\cache\\wheels\\87\\75\\37\\404e66d0c4bad150f101c9a0914b11a8eccc2681559936e7f7\n",
      "Successfully built mglearn\n",
      "Installing collected packages: imageio, mglearn\n",
      "Successfully installed imageio-2.16.1 mglearn-0.1.9\n"
     ]
    }
   ],
   "source": [
    "!pip install pandas numpy sklearn mglearn"
   ]
  },
  {
   "cell_type": "markdown",
   "id": "f05a394e",
   "metadata": {},
   "source": [
    "## 데이터 받아오기"
   ]
  },
  {
   "cell_type": "code",
   "execution_count": 2,
   "id": "e02e784a",
   "metadata": {},
   "outputs": [],
   "source": [
    "import pandas as pd"
   ]
  },
  {
   "cell_type": "code",
   "execution_count": 3,
   "id": "97482b51",
   "metadata": {},
   "outputs": [],
   "source": [
    "df_train = pd.read_csv('data/ratings_train.txt' , delimiter = '\\t')\n",
    "df_test = pd.read_csv('data/ratings_test.txt' , delimiter = '\\t')"
   ]
  },
  {
   "cell_type": "markdown",
   "id": "445695db",
   "metadata": {},
   "source": [
    "## 결측치 제거"
   ]
  },
  {
   "cell_type": "code",
   "execution_count": 4,
   "id": "7763e0f7",
   "metadata": {},
   "outputs": [],
   "source": [
    "df_train.dropna(inplace = True)\n",
    "df_test.dropna(inplace = True)"
   ]
  },
  {
   "cell_type": "code",
   "execution_count": 5,
   "id": "66a84125",
   "metadata": {
    "scrolled": true
   },
   "outputs": [
    {
     "data": {
      "text/html": [
       "<div>\n",
       "<style scoped>\n",
       "    .dataframe tbody tr th:only-of-type {\n",
       "        vertical-align: middle;\n",
       "    }\n",
       "\n",
       "    .dataframe tbody tr th {\n",
       "        vertical-align: top;\n",
       "    }\n",
       "\n",
       "    .dataframe thead th {\n",
       "        text-align: right;\n",
       "    }\n",
       "</style>\n",
       "<table border=\"1\" class=\"dataframe\">\n",
       "  <thead>\n",
       "    <tr style=\"text-align: right;\">\n",
       "      <th></th>\n",
       "      <th>id</th>\n",
       "      <th>document</th>\n",
       "      <th>label</th>\n",
       "    </tr>\n",
       "  </thead>\n",
       "  <tbody>\n",
       "    <tr>\n",
       "      <th>0</th>\n",
       "      <td>9976970</td>\n",
       "      <td>아 더빙.. 진짜 짜증나네요 목소리</td>\n",
       "      <td>0</td>\n",
       "    </tr>\n",
       "    <tr>\n",
       "      <th>1</th>\n",
       "      <td>3819312</td>\n",
       "      <td>흠...포스터보고 초딩영화줄....오버연기조차 가볍지 않구나</td>\n",
       "      <td>1</td>\n",
       "    </tr>\n",
       "    <tr>\n",
       "      <th>2</th>\n",
       "      <td>10265843</td>\n",
       "      <td>너무재밓었다그래서보는것을추천한다</td>\n",
       "      <td>0</td>\n",
       "    </tr>\n",
       "    <tr>\n",
       "      <th>3</th>\n",
       "      <td>9045019</td>\n",
       "      <td>교도소 이야기구먼 ..솔직히 재미는 없다..평점 조정</td>\n",
       "      <td>0</td>\n",
       "    </tr>\n",
       "    <tr>\n",
       "      <th>4</th>\n",
       "      <td>6483659</td>\n",
       "      <td>사이몬페그의 익살스런 연기가 돋보였던 영화!스파이더맨에서 늙어보이기만 했던 커스틴 ...</td>\n",
       "      <td>1</td>\n",
       "    </tr>\n",
       "    <tr>\n",
       "      <th>...</th>\n",
       "      <td>...</td>\n",
       "      <td>...</td>\n",
       "      <td>...</td>\n",
       "    </tr>\n",
       "    <tr>\n",
       "      <th>149995</th>\n",
       "      <td>6222902</td>\n",
       "      <td>인간이 문제지.. 소는 뭔죄인가..</td>\n",
       "      <td>0</td>\n",
       "    </tr>\n",
       "    <tr>\n",
       "      <th>149996</th>\n",
       "      <td>8549745</td>\n",
       "      <td>평점이 너무 낮아서...</td>\n",
       "      <td>1</td>\n",
       "    </tr>\n",
       "    <tr>\n",
       "      <th>149997</th>\n",
       "      <td>9311800</td>\n",
       "      <td>이게 뭐요? 한국인은 거들먹거리고 필리핀 혼혈은 착하다?</td>\n",
       "      <td>0</td>\n",
       "    </tr>\n",
       "    <tr>\n",
       "      <th>149998</th>\n",
       "      <td>2376369</td>\n",
       "      <td>청춘 영화의 최고봉.방황과 우울했던 날들의 자화상</td>\n",
       "      <td>1</td>\n",
       "    </tr>\n",
       "    <tr>\n",
       "      <th>149999</th>\n",
       "      <td>9619869</td>\n",
       "      <td>한국 영화 최초로 수간하는 내용이 담긴 영화</td>\n",
       "      <td>0</td>\n",
       "    </tr>\n",
       "  </tbody>\n",
       "</table>\n",
       "<p>149995 rows × 3 columns</p>\n",
       "</div>"
      ],
      "text/plain": [
       "              id                                           document  label\n",
       "0        9976970                                아 더빙.. 진짜 짜증나네요 목소리      0\n",
       "1        3819312                  흠...포스터보고 초딩영화줄....오버연기조차 가볍지 않구나      1\n",
       "2       10265843                                  너무재밓었다그래서보는것을추천한다      0\n",
       "3        9045019                      교도소 이야기구먼 ..솔직히 재미는 없다..평점 조정      0\n",
       "4        6483659  사이몬페그의 익살스런 연기가 돋보였던 영화!스파이더맨에서 늙어보이기만 했던 커스틴 ...      1\n",
       "...          ...                                                ...    ...\n",
       "149995   6222902                                인간이 문제지.. 소는 뭔죄인가..      0\n",
       "149996   8549745                                      평점이 너무 낮아서...      1\n",
       "149997   9311800                    이게 뭐요? 한국인은 거들먹거리고 필리핀 혼혈은 착하다?      0\n",
       "149998   2376369                        청춘 영화의 최고봉.방황과 우울했던 날들의 자화상      1\n",
       "149999   9619869                           한국 영화 최초로 수간하는 내용이 담긴 영화      0\n",
       "\n",
       "[149995 rows x 3 columns]"
      ]
     },
     "execution_count": 5,
     "metadata": {},
     "output_type": "execute_result"
    }
   ],
   "source": [
    "df_train"
   ]
  },
  {
   "cell_type": "code",
   "execution_count": 6,
   "id": "7d2b2a9c",
   "metadata": {},
   "outputs": [],
   "source": [
    "text_train = df_train['document']"
   ]
  },
  {
   "cell_type": "markdown",
   "id": "c984b595",
   "metadata": {},
   "source": [
    "## 토큰화"
   ]
  },
  {
   "cell_type": "code",
   "execution_count": 7,
   "id": "8c77751c",
   "metadata": {},
   "outputs": [],
   "source": [
    "from sklearn.feature_extraction.text import CountVectorizer"
   ]
  },
  {
   "cell_type": "code",
   "execution_count": 20,
   "id": "5405f336",
   "metadata": {},
   "outputs": [],
   "source": [
    "# max_features = 가장 많이 등장하는 단어 10000개만 사용\n",
    "# max_df = 15%이상의 문서에서 등장하는 단어 제거\n",
    "cv = CountVectorizer(max_features = 10000 , max_df = .15)\n",
    "X = cv.fit_transform(text_train)"
   ]
  },
  {
   "cell_type": "code",
   "execution_count": 21,
   "id": "99ce664d",
   "metadata": {},
   "outputs": [
    {
     "data": {
      "text/plain": [
       "<149995x10000 sparse matrix of type '<class 'numpy.int64'>'\n",
       "\twith 636309 stored elements in Compressed Sparse Row format>"
      ]
     },
     "execution_count": 21,
     "metadata": {},
     "output_type": "execute_result"
    }
   ],
   "source": [
    "# 149995문장을 10000개 단어로 표시 한 데이터를 벡터화\n",
    "X"
   ]
  },
  {
   "cell_type": "markdown",
   "id": "a1744a8c",
   "metadata": {},
   "source": [
    "## LDA"
   ]
  },
  {
   "cell_type": "code",
   "execution_count": 22,
   "id": "123c4f7a",
   "metadata": {},
   "outputs": [],
   "source": [
    "from sklearn.decomposition import LatentDirichletAllocation\n",
    "\n",
    "# n_components = 10 : 10개의 토픽 그룹을 만들어 달라!\n",
    "# learning_method = 'batch' : 기본값 online, batch 느리지만 성능이 좋다\n",
    "\n",
    "lda = LatentDirichletAllocation(n_components = 10, learning_method = 'batch',\n",
    "                               max_iter = 25 , random_state = 0)"
   ]
  },
  {
   "cell_type": "code",
   "execution_count": 23,
   "id": "152a1b13",
   "metadata": {},
   "outputs": [],
   "source": [
    "document_topics = lda.fit_transform(X)"
   ]
  },
  {
   "cell_type": "code",
   "execution_count": 24,
   "id": "1b161a2b",
   "metadata": {},
   "outputs": [
    {
     "data": {
      "text/plain": [
       "array([0.02      , 0.02      , 0.02000005, 0.02      , 0.02      ,\n",
       "       0.02000004, 0.61999977, 0.02      , 0.02000027, 0.21999986])"
      ]
     },
     "execution_count": 24,
     "metadata": {},
     "output_type": "execute_result"
    }
   ],
   "source": [
    "document_topics[0]"
   ]
  },
  {
   "cell_type": "markdown",
   "id": "79d736dc",
   "metadata": {},
   "source": [
    "### 토픽 확인"
   ]
  },
  {
   "cell_type": "code",
   "execution_count": 25,
   "id": "bf66ab0b",
   "metadata": {},
   "outputs": [],
   "source": [
    "import numpy as np\n",
    "import mglearn"
   ]
  },
  {
   "cell_type": "code",
   "execution_count": 26,
   "id": "b0be0253",
   "metadata": {
    "scrolled": false
   },
   "outputs": [
    {
     "name": "stdout",
     "output_type": "stream",
     "text": [
      "topic 0       topic 1       topic 2       topic 3       topic 4       \n",
      "--------      --------      --------      --------      --------      \n",
      "너무            영화            ㅋㅋ            그리고           영화를           \n",
      "없고            정말            봤는데           대한            다시            \n",
      "별로            가장            너무            있는            보고            \n",
      "내용도           평점이           최고            작품            많이            \n",
      "스토리           좋은            정말            이야기           정말            \n",
      "스토리가          만든            ㅋㅋㅋ           아름다운          봐도            \n",
      "스토리도          너무            재밌게           마지막           이런            \n",
      "재미도           여운이           ㅎㅎ            재밌어요          영화가           \n",
      "연기도           보면            그래도           좋았다           지금            \n",
      "않고            남는            재미있게          없는            영화입니다         \n",
      "\n",
      "\n",
      "topic 5       topic 6       topic 7       topic 8       topic 9       \n",
      "--------      --------      --------      --------      --------      \n",
      "정말            진짜            그냥            이게            너무            \n",
      "최고의           보는            영화            좋은            이런            \n",
      "드라마           연기            쓰레기           재밌다           역시            \n",
      "평점            완전            없는            이건            영화는           \n",
      "이렇게           ㅠㅠ            아깝다           영화를           없다            \n",
      "10점           내내            재미            이걸            영화가           \n",
      "내가            좋고            ㅡㅡ            영화라고          이거            \n",
      "끝까지           최고다           아니고           하는            좋다            \n",
      "명작            이제            1점            이런            말이            \n",
      "최악의           계속            아까운           나도            무슨            \n",
      "\n",
      "\n"
     ]
    }
   ],
   "source": [
    "sorting = np.argsort(lda.components_, axis = 1)[:,::-1]\n",
    "feature_names = np.array(cv.get_feature_names())\n",
    "mglearn.tools.print_topics(topics=range(10), feature_names = feature_names, sorting = sorting, topics_per_chunk = 5, n_words = 10)"
   ]
  },
  {
   "cell_type": "code",
   "execution_count": 27,
   "id": "dd97de24",
   "metadata": {},
   "outputs": [
    {
     "data": {
      "text/plain": [
       "'아 더빙.. 진짜 짜증나네요 목소리'"
      ]
     },
     "execution_count": 27,
     "metadata": {},
     "output_type": "execute_result"
    }
   ],
   "source": [
    "# 문서의 크기가 커진다면 과소적합을 예방할 수 있음\n",
    "text_train[0]"
   ]
  },
  {
   "cell_type": "code",
   "execution_count": 28,
   "id": "7ea6b240",
   "metadata": {},
   "outputs": [
    {
     "data": {
      "text/plain": [
       "array([0.02      , 0.02      , 0.02000005, 0.02      , 0.02      ,\n",
       "       0.02000004, 0.61999977, 0.02      , 0.02000027, 0.21999986])"
      ]
     },
     "execution_count": 28,
     "metadata": {},
     "output_type": "execute_result"
    }
   ],
   "source": [
    "document_topics[0]"
   ]
  }
 ],
 "metadata": {
  "kernelspec": {
   "display_name": "Python 3 (ipykernel)",
   "language": "python",
   "name": "python3"
  },
  "language_info": {
   "codemirror_mode": {
    "name": "ipython",
    "version": 3
   },
   "file_extension": ".py",
   "mimetype": "text/x-python",
   "name": "python",
   "nbconvert_exporter": "python",
   "pygments_lexer": "ipython3",
   "version": "3.8.12"
  },
  "toc": {
   "base_numbering": 1,
   "nav_menu": {},
   "number_sections": true,
   "sideBar": true,
   "skip_h1_title": false,
   "title_cell": "Table of Contents",
   "title_sidebar": "Contents",
   "toc_cell": false,
   "toc_position": {},
   "toc_section_display": true,
   "toc_window_display": false
  }
 },
 "nbformat": 4,
 "nbformat_minor": 5
}
