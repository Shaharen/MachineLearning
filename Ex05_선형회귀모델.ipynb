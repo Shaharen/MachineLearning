{
 "cells": [
  {
   "cell_type": "markdown",
   "id": "558d6fc5",
   "metadata": {},
   "source": [
    "# 성적 데이터 생성"
   ]
  },
  {
   "cell_type": "code",
   "execution_count": 1,
   "id": "dc731437",
   "metadata": {},
   "outputs": [],
   "source": [
    "import pandas as pd"
   ]
  },
  {
   "cell_type": "code",
   "execution_count": 2,
   "id": "59b263de",
   "metadata": {},
   "outputs": [],
   "source": [
    "data =  pd.DataFrame([[2,20],[4,40],[8,80],[9,90]],\n",
    "                    index = ['해도','병관','명훈','동원'],\n",
    "                    columns = ['시간','성적'])"
   ]
  },
  {
   "cell_type": "code",
   "execution_count": 3,
   "id": "b7f8540d",
   "metadata": {},
   "outputs": [
    {
     "data": {
      "text/html": [
       "<div>\n",
       "<style scoped>\n",
       "    .dataframe tbody tr th:only-of-type {\n",
       "        vertical-align: middle;\n",
       "    }\n",
       "\n",
       "    .dataframe tbody tr th {\n",
       "        vertical-align: top;\n",
       "    }\n",
       "\n",
       "    .dataframe thead th {\n",
       "        text-align: right;\n",
       "    }\n",
       "</style>\n",
       "<table border=\"1\" class=\"dataframe\">\n",
       "  <thead>\n",
       "    <tr style=\"text-align: right;\">\n",
       "      <th></th>\n",
       "      <th>시간</th>\n",
       "      <th>성적</th>\n",
       "    </tr>\n",
       "  </thead>\n",
       "  <tbody>\n",
       "    <tr>\n",
       "      <th>해도</th>\n",
       "      <td>2</td>\n",
       "      <td>20</td>\n",
       "    </tr>\n",
       "    <tr>\n",
       "      <th>병관</th>\n",
       "      <td>4</td>\n",
       "      <td>40</td>\n",
       "    </tr>\n",
       "    <tr>\n",
       "      <th>명훈</th>\n",
       "      <td>8</td>\n",
       "      <td>80</td>\n",
       "    </tr>\n",
       "    <tr>\n",
       "      <th>동원</th>\n",
       "      <td>9</td>\n",
       "      <td>90</td>\n",
       "    </tr>\n",
       "  </tbody>\n",
       "</table>\n",
       "</div>"
      ],
      "text/plain": [
       "    시간  성적\n",
       "해도   2  20\n",
       "병관   4  40\n",
       "명훈   8  80\n",
       "동원   9  90"
      ]
     },
     "execution_count": 3,
     "metadata": {},
     "output_type": "execute_result"
    }
   ],
   "source": [
    "data"
   ]
  },
  {
   "cell_type": "markdown",
   "id": "cce041a1",
   "metadata": {},
   "source": [
    "# 수학 공식을 이용한 해석적 방법\n",
    "- LinearRegression"
   ]
  },
  {
   "cell_type": "code",
   "execution_count": 4,
   "id": "b48127a4",
   "metadata": {},
   "outputs": [],
   "source": [
    "from sklearn.linear_model import LinearRegression"
   ]
  },
  {
   "cell_type": "code",
   "execution_count": 5,
   "id": "b1c0539f",
   "metadata": {},
   "outputs": [],
   "source": [
    "linear_model = LinearRegression()"
   ]
  },
  {
   "cell_type": "code",
   "execution_count": 9,
   "id": "9c706cad",
   "metadata": {},
   "outputs": [
    {
     "data": {
      "text/html": [
       "<div>\n",
       "<style scoped>\n",
       "    .dataframe tbody tr th:only-of-type {\n",
       "        vertical-align: middle;\n",
       "    }\n",
       "\n",
       "    .dataframe tbody tr th {\n",
       "        vertical-align: top;\n",
       "    }\n",
       "\n",
       "    .dataframe thead th {\n",
       "        text-align: right;\n",
       "    }\n",
       "</style>\n",
       "<table border=\"1\" class=\"dataframe\">\n",
       "  <thead>\n",
       "    <tr style=\"text-align: right;\">\n",
       "      <th></th>\n",
       "      <th>시간</th>\n",
       "    </tr>\n",
       "  </thead>\n",
       "  <tbody>\n",
       "    <tr>\n",
       "      <th>해도</th>\n",
       "      <td>2</td>\n",
       "    </tr>\n",
       "    <tr>\n",
       "      <th>병관</th>\n",
       "      <td>4</td>\n",
       "    </tr>\n",
       "    <tr>\n",
       "      <th>명훈</th>\n",
       "      <td>8</td>\n",
       "    </tr>\n",
       "    <tr>\n",
       "      <th>동원</th>\n",
       "      <td>9</td>\n",
       "    </tr>\n",
       "  </tbody>\n",
       "</table>\n",
       "</div>"
      ],
      "text/plain": [
       "    시간\n",
       "해도   2\n",
       "병관   4\n",
       "명훈   8\n",
       "동원   9"
      ]
     },
     "execution_count": 9,
     "metadata": {},
     "output_type": "execute_result"
    }
   ],
   "source": [
    "data[['시간']] # 2차원, DataFrame"
   ]
  },
  {
   "cell_type": "code",
   "execution_count": 10,
   "id": "087915d6",
   "metadata": {},
   "outputs": [
    {
     "data": {
      "text/plain": [
       "해도    20\n",
       "병관    40\n",
       "명훈    80\n",
       "동원    90\n",
       "Name: 성적, dtype: int64"
      ]
     },
     "execution_count": 10,
     "metadata": {},
     "output_type": "execute_result"
    }
   ],
   "source": [
    "data['성적'] # 1차원, Series"
   ]
  },
  {
   "cell_type": "code",
   "execution_count": 11,
   "id": "7771676c",
   "metadata": {},
   "outputs": [
    {
     "data": {
      "text/plain": [
       "pandas.core.series.Series"
      ]
     },
     "execution_count": 11,
     "metadata": {},
     "output_type": "execute_result"
    }
   ],
   "source": [
    "type(data['성적'])"
   ]
  },
  {
   "cell_type": "code",
   "execution_count": 6,
   "id": "c88a5439",
   "metadata": {},
   "outputs": [
    {
     "data": {
      "text/plain": [
       "LinearRegression()"
      ]
     },
     "execution_count": 6,
     "metadata": {},
     "output_type": "execute_result"
    }
   ],
   "source": [
    "# 문제는 2차원, 정답은 1차원\n",
    "linear_model.fit(data[['시간']] , data['성적'])"
   ]
  },
  {
   "cell_type": "code",
   "execution_count": 8,
   "id": "ce4e2648",
   "metadata": {},
   "outputs": [
    {
     "name": "stdout",
     "output_type": "stream",
     "text": [
      "[10.]\n",
      "7.105427357601002e-15\n"
     ]
    }
   ],
   "source": [
    "# y = 10x + 7.10000e-15\n",
    "# y = 성적\n",
    "# x = 시간\n",
    "print(linear_model.coef_) # 가중치\n",
    "print(linear_model.intercept_) # 절편"
   ]
  },
  {
   "cell_type": "code",
   "execution_count": 12,
   "id": "04b54181",
   "metadata": {},
   "outputs": [
    {
     "data": {
      "text/plain": [
       "array([70.])"
      ]
     },
     "execution_count": 12,
     "metadata": {},
     "output_type": "execute_result"
    }
   ],
   "source": [
    "linear_model.predict([[7]])"
   ]
  },
  {
   "cell_type": "markdown",
   "id": "93011b16",
   "metadata": {},
   "source": [
    "# 경사하강법\n",
    "- SGDRegressor"
   ]
  },
  {
   "cell_type": "code",
   "execution_count": 13,
   "id": "3493d2e3",
   "metadata": {},
   "outputs": [],
   "source": [
    "from sklearn.linear_model import SGDRegressor"
   ]
  },
  {
   "cell_type": "code",
   "execution_count": 14,
   "id": "4c32e2c8",
   "metadata": {},
   "outputs": [],
   "source": [
    "sgd_model = SGDRegressor(max_iter = 5000, # 가중치 업데이트 반복 횟수\n",
    "                        eta0 = 0.01,      # 학습률 ( learning rate )\n",
    "                        verbose = 1)      # 학습과정 확인"
   ]
  },
  {
   "cell_type": "code",
   "execution_count": 15,
   "id": "70f11242",
   "metadata": {},
   "outputs": [
    {
     "name": "stdout",
     "output_type": "stream",
     "text": [
      "-- Epoch 1\n",
      "Norm: 8.49, NNZs: 1, Bias: 1.207604, T: 4, Avg. loss: 959.643225\n",
      "Total training time: 0.00 seconds.\n",
      "-- Epoch 2\n",
      "Norm: 9.50, NNZs: 1, Bias: 1.323629, T: 8, Avg. loss: 22.057521\n",
      "Total training time: 0.00 seconds.\n",
      "-- Epoch 3\n",
      "Norm: 9.72, NNZs: 1, Bias: 1.346364, T: 12, Avg. loss: 1.523383\n",
      "Total training time: 0.00 seconds.\n",
      "-- Epoch 4\n",
      "Norm: 9.79, NNZs: 1, Bias: 1.351327, T: 16, Avg. loss: 0.322710\n",
      "Total training time: 0.00 seconds.\n",
      "-- Epoch 5\n",
      "Norm: 9.81, NNZs: 1, Bias: 1.348677, T: 20, Avg. loss: 0.210055\n",
      "Total training time: 0.00 seconds.\n",
      "-- Epoch 6\n",
      "Norm: 9.81, NNZs: 1, Bias: 1.343348, T: 24, Avg. loss: 0.191302\n",
      "Total training time: 0.00 seconds.\n",
      "-- Epoch 7\n",
      "Norm: 9.81, NNZs: 1, Bias: 1.339149, T: 28, Avg. loss: 0.194562\n",
      "Total training time: 0.00 seconds.\n",
      "-- Epoch 8\n",
      "Norm: 9.82, NNZs: 1, Bias: 1.335912, T: 32, Avg. loss: 0.188646\n",
      "Total training time: 0.00 seconds.\n",
      "-- Epoch 9\n",
      "Norm: 9.82, NNZs: 1, Bias: 1.331458, T: 36, Avg. loss: 0.188640\n",
      "Total training time: 0.00 seconds.\n",
      "-- Epoch 10\n",
      "Norm: 9.81, NNZs: 1, Bias: 1.326197, T: 40, Avg. loss: 0.182491\n",
      "Total training time: 0.00 seconds.\n",
      "-- Epoch 11\n",
      "Norm: 9.81, NNZs: 1, Bias: 1.322140, T: 44, Avg. loss: 0.185861\n",
      "Total training time: 0.00 seconds.\n",
      "-- Epoch 12\n",
      "Norm: 9.82, NNZs: 1, Bias: 1.319053, T: 48, Avg. loss: 0.182591\n",
      "Total training time: 0.00 seconds.\n",
      "-- Epoch 13\n",
      "Norm: 9.82, NNZs: 1, Bias: 1.315052, T: 52, Avg. loss: 0.182776\n",
      "Total training time: 0.00 seconds.\n",
      "-- Epoch 14\n",
      "Norm: 9.82, NNZs: 1, Bias: 1.310339, T: 56, Avg. loss: 0.177754\n",
      "Total training time: 0.00 seconds.\n",
      "-- Epoch 15\n",
      "Norm: 9.82, NNZs: 1, Bias: 1.306604, T: 60, Avg. loss: 0.180372\n",
      "Total training time: 0.00 seconds.\n",
      "-- Epoch 16\n",
      "Norm: 9.82, NNZs: 1, Bias: 1.303717, T: 64, Avg. loss: 0.177737\n",
      "Total training time: 0.00 seconds.\n",
      "-- Epoch 17\n",
      "Norm: 9.82, NNZs: 1, Bias: 1.300053, T: 68, Avg. loss: 0.177852\n",
      "Total training time: 0.00 seconds.\n",
      "-- Epoch 18\n",
      "Norm: 9.82, NNZs: 1, Bias: 1.295733, T: 72, Avg. loss: 0.173541\n",
      "Total training time: 0.00 seconds.\n",
      "-- Epoch 19\n",
      "Norm: 9.82, NNZs: 1, Bias: 1.292242, T: 76, Avg. loss: 0.175694\n",
      "Total training time: 0.00 seconds.\n",
      "-- Epoch 20\n",
      "Norm: 9.82, NNZs: 1, Bias: 1.289511, T: 80, Avg. loss: 0.173438\n",
      "Total training time: 0.00 seconds.\n",
      "-- Epoch 21\n",
      "Norm: 9.83, NNZs: 1, Bias: 1.286095, T: 84, Avg. loss: 0.173501\n",
      "Total training time: 0.00 seconds.\n",
      "-- Epoch 22\n",
      "Norm: 9.82, NNZs: 1, Bias: 1.282070, T: 88, Avg. loss: 0.169686\n",
      "Total training time: 0.00 seconds.\n",
      "-- Epoch 23\n",
      "Norm: 9.82, NNZs: 1, Bias: 1.278771, T: 92, Avg. loss: 0.171517\n",
      "Total training time: 0.00 seconds.\n",
      "-- Epoch 24\n",
      "Norm: 9.83, NNZs: 1, Bias: 1.276165, T: 96, Avg. loss: 0.169525\n",
      "Total training time: 0.00 seconds.\n",
      "-- Epoch 25\n",
      "Norm: 9.83, NNZs: 1, Bias: 1.272944, T: 100, Avg. loss: 0.169551\n",
      "Total training time: 0.00 seconds.\n",
      "-- Epoch 26\n",
      "Norm: 9.82, NNZs: 1, Bias: 1.269153, T: 104, Avg. loss: 0.166108\n",
      "Total training time: 0.00 seconds.\n",
      "-- Epoch 27\n",
      "Norm: 9.82, NNZs: 1, Bias: 1.266012, T: 108, Avg. loss: 0.167701\n",
      "Total training time: 0.00 seconds.\n",
      "-- Epoch 28\n",
      "Norm: 9.83, NNZs: 1, Bias: 1.263511, T: 112, Avg. loss: 0.165907\n",
      "Total training time: 0.00 seconds.\n",
      "-- Epoch 29\n",
      "Norm: 9.83, NNZs: 1, Bias: 1.260449, T: 116, Avg. loss: 0.165905\n",
      "Total training time: 0.00 seconds.\n",
      "-- Epoch 30\n",
      "Norm: 9.82, NNZs: 1, Bias: 1.256850, T: 120, Avg. loss: 0.162756\n",
      "Total training time: 0.00 seconds.\n",
      "-- Epoch 31\n",
      "Norm: 9.82, NNZs: 1, Bias: 1.253843, T: 124, Avg. loss: 0.164165\n",
      "Total training time: 0.00 seconds.\n",
      "-- Epoch 32\n",
      "Norm: 9.83, NNZs: 1, Bias: 1.251432, T: 128, Avg. loss: 0.162525\n",
      "Total training time: 0.00 seconds.\n",
      "-- Epoch 33\n",
      "Norm: 9.83, NNZs: 1, Bias: 1.248503, T: 132, Avg. loss: 0.162502\n",
      "Total training time: 0.00 seconds.\n",
      "-- Epoch 34\n",
      "Norm: 9.83, NNZs: 1, Bias: 1.245068, T: 136, Avg. loss: 0.159593\n",
      "Total training time: 0.00 seconds.\n",
      "-- Epoch 35\n",
      "Norm: 9.83, NNZs: 1, Bias: 1.242176, T: 140, Avg. loss: 0.160854\n",
      "Total training time: 0.00 seconds.\n",
      "-- Epoch 36\n",
      "Norm: 9.83, NNZs: 1, Bias: 1.239843, T: 144, Avg. loss: 0.159340\n",
      "Total training time: 0.00 seconds.\n",
      "-- Epoch 37\n",
      "Norm: 9.83, NNZs: 1, Bias: 1.237030, T: 148, Avg. loss: 0.159301\n",
      "Total training time: 0.00 seconds.\n",
      "-- Epoch 38\n",
      "Norm: 9.83, NNZs: 1, Bias: 1.233736, T: 152, Avg. loss: 0.156591\n",
      "Total training time: 0.00 seconds.\n",
      "-- Epoch 39\n",
      "Norm: 9.83, NNZs: 1, Bias: 1.230945, T: 156, Avg. loss: 0.157731\n",
      "Total training time: 0.00 seconds.\n",
      "-- Epoch 40\n",
      "Norm: 9.83, NNZs: 1, Bias: 1.228683, T: 160, Avg. loss: 0.156322\n",
      "Total training time: 0.00 seconds.\n",
      "-- Epoch 41\n",
      "Norm: 9.83, NNZs: 1, Bias: 1.225971, T: 164, Avg. loss: 0.156270\n",
      "Total training time: 0.00 seconds.\n",
      "-- Epoch 42\n",
      "Norm: 9.83, NNZs: 1, Bias: 1.222800, T: 168, Avg. loss: 0.153730\n",
      "Total training time: 0.00 seconds.\n",
      "-- Epoch 43\n",
      "Norm: 9.83, NNZs: 1, Bias: 1.220100, T: 172, Avg. loss: 0.154770\n",
      "Total training time: 0.00 seconds.\n",
      "-- Epoch 44\n",
      "Norm: 9.83, NNZs: 1, Bias: 1.217900, T: 176, Avg. loss: 0.153449\n",
      "Total training time: 0.00 seconds.\n",
      "-- Epoch 45\n",
      "Norm: 9.83, NNZs: 1, Bias: 1.215278, T: 180, Avg. loss: 0.153387\n",
      "Total training time: 0.00 seconds.\n",
      "-- Epoch 46\n",
      "Norm: 9.83, NNZs: 1, Bias: 1.212217, T: 184, Avg. loss: 0.150995\n",
      "Total training time: 0.00 seconds.\n",
      "-- Epoch 47\n",
      "Norm: 9.83, NNZs: 1, Bias: 1.209599, T: 188, Avg. loss: 0.151948\n",
      "Total training time: 0.00 seconds.\n",
      "-- Epoch 48\n",
      "Norm: 9.83, NNZs: 1, Bias: 1.207457, T: 192, Avg. loss: 0.150705\n",
      "Total training time: 0.00 seconds.\n",
      "-- Epoch 49\n",
      "Norm: 9.83, NNZs: 1, Bias: 1.204915, T: 196, Avg. loss: 0.150634\n",
      "Total training time: 0.00 seconds.\n",
      "-- Epoch 50\n",
      "Norm: 9.83, NNZs: 1, Bias: 1.201953, T: 200, Avg. loss: 0.148372\n",
      "Total training time: 0.00 seconds.\n",
      "-- Epoch 51\n",
      "Norm: 9.83, NNZs: 1, Bias: 1.199409, T: 204, Avg. loss: 0.149251\n",
      "Total training time: 0.00 seconds.\n",
      "-- Epoch 52\n",
      "Norm: 9.84, NNZs: 1, Bias: 1.197319, T: 208, Avg. loss: 0.148075\n",
      "Total training time: 0.00 seconds.\n",
      "-- Epoch 53\n",
      "Norm: 9.84, NNZs: 1, Bias: 1.194851, T: 212, Avg. loss: 0.147997\n",
      "Total training time: 0.00 seconds.\n",
      "-- Epoch 54\n",
      "Norm: 9.83, NNZs: 1, Bias: 1.191979, T: 216, Avg. loss: 0.145850\n",
      "Total training time: 0.00 seconds.\n",
      "-- Epoch 55\n",
      "Norm: 9.83, NNZs: 1, Bias: 1.189502, T: 220, Avg. loss: 0.146665\n",
      "Total training time: 0.00 seconds.\n",
      "-- Epoch 56\n",
      "Norm: 9.84, NNZs: 1, Bias: 1.187462, T: 224, Avg. loss: 0.145548\n",
      "Total training time: 0.00 seconds.\n",
      "-- Epoch 57\n",
      "Norm: 9.84, NNZs: 1, Bias: 1.185060, T: 228, Avg. loss: 0.145464\n",
      "Total training time: 0.00 seconds.\n",
      "-- Epoch 58\n",
      "Norm: 9.83, NNZs: 1, Bias: 1.182270, T: 232, Avg. loss: 0.143421\n",
      "Total training time: 0.00 seconds.\n",
      "-- Epoch 59\n",
      "Norm: 9.84, NNZs: 1, Bias: 1.179855, T: 236, Avg. loss: 0.144178\n",
      "Total training time: 0.00 seconds.\n",
      "-- Epoch 60\n",
      "Norm: 9.84, NNZs: 1, Bias: 1.177860, T: 240, Avg. loss: 0.143115\n",
      "Total training time: 0.00 seconds.\n",
      "-- Epoch 61\n",
      "Norm: 9.84, NNZs: 1, Bias: 1.175520, T: 244, Avg. loss: 0.143026\n",
      "Total training time: 0.00 seconds.\n",
      "-- Epoch 62\n",
      "Norm: 9.84, NNZs: 1, Bias: 1.172805, T: 248, Avg. loss: 0.141076\n",
      "Total training time: 0.00 seconds.\n",
      "-- Epoch 63\n",
      "Norm: 9.84, NNZs: 1, Bias: 1.170449, T: 252, Avg. loss: 0.141783\n",
      "Total training time: 0.00 seconds.\n",
      "-- Epoch 64\n",
      "Norm: 9.84, NNZs: 1, Bias: 1.168496, T: 256, Avg. loss: 0.140767\n",
      "Total training time: 0.00 seconds.\n",
      "-- Epoch 65\n",
      "Norm: 9.84, NNZs: 1, Bias: 1.166213, T: 260, Avg. loss: 0.140675\n",
      "Total training time: 0.00 seconds.\n",
      "-- Epoch 66\n",
      "Norm: 9.84, NNZs: 1, Bias: 1.163568, T: 264, Avg. loss: 0.138809\n",
      "Total training time: 0.00 seconds.\n",
      "-- Epoch 67\n",
      "Norm: 9.84, NNZs: 1, Bias: 1.161266, T: 268, Avg. loss: 0.139472\n",
      "Total training time: 0.00 seconds.\n",
      "-- Epoch 68\n",
      "Norm: 9.84, NNZs: 1, Bias: 1.159353, T: 272, Avg. loss: 0.138499\n",
      "Total training time: 0.00 seconds.\n",
      "-- Epoch 69\n",
      "Norm: 9.84, NNZs: 1, Bias: 1.157123, T: 276, Avg. loss: 0.138404\n",
      "Total training time: 0.00 seconds.\n",
      "-- Epoch 70\n",
      "Norm: 9.84, NNZs: 1, Bias: 1.154542, T: 280, Avg. loss: 0.136615\n",
      "Total training time: 0.00 seconds.\n",
      "-- Epoch 71\n",
      "Norm: 9.84, NNZs: 1, Bias: 1.152291, T: 284, Avg. loss: 0.137238\n",
      "Total training time: 0.00 seconds.\n",
      "-- Epoch 72\n",
      "Norm: 9.84, NNZs: 1, Bias: 1.150415, T: 288, Avg. loss: 0.136305\n",
      "Total training time: 0.00 seconds.\n",
      "-- Epoch 73\n",
      "Norm: 9.84, NNZs: 1, Bias: 1.148235, T: 292, Avg. loss: 0.136207\n",
      "Total training time: 0.00 seconds.\n",
      "-- Epoch 74\n",
      "Norm: 9.84, NNZs: 1, Bias: 1.145714, T: 296, Avg. loss: 0.134489\n",
      "Total training time: 0.00 seconds.\n",
      "-- Epoch 75\n",
      "Norm: 9.84, NNZs: 1, Bias: 1.143510, T: 300, Avg. loss: 0.135075\n",
      "Total training time: 0.00 seconds.\n",
      "-- Epoch 76\n",
      "Norm: 9.84, NNZs: 1, Bias: 1.141670, T: 304, Avg. loss: 0.134178\n",
      "Total training time: 0.00 seconds.\n",
      "-- Epoch 77\n",
      "Norm: 9.84, NNZs: 1, Bias: 1.139536, T: 308, Avg. loss: 0.134078\n",
      "Total training time: 0.00 seconds.\n",
      "-- Epoch 78\n",
      "Norm: 9.84, NNZs: 1, Bias: 1.137073, T: 312, Avg. loss: 0.132426\n",
      "Total training time: 0.00 seconds.\n",
      "-- Epoch 79\n",
      "Norm: 9.84, NNZs: 1, Bias: 1.134913, T: 316, Avg. loss: 0.132978\n",
      "Total training time: 0.00 seconds.\n",
      "-- Epoch 80\n",
      "Norm: 9.84, NNZs: 1, Bias: 1.133106, T: 320, Avg. loss: 0.132115\n",
      "Total training time: 0.00 seconds.\n",
      "-- Epoch 81\n",
      "Norm: 9.84, NNZs: 1, Bias: 1.131016, T: 324, Avg. loss: 0.132014\n",
      "Total training time: 0.00 seconds.\n",
      "-- Epoch 82\n",
      "Norm: 9.84, NNZs: 1, Bias: 1.128606, T: 328, Avg. loss: 0.130422\n",
      "Total training time: 0.00 seconds.\n",
      "-- Epoch 83\n",
      "Norm: 9.84, NNZs: 1, Bias: 1.126489, T: 332, Avg. loss: 0.130945\n",
      "Total training time: 0.00 seconds.\n",
      "-- Epoch 84\n",
      "Norm: 9.85, NNZs: 1, Bias: 1.124714, T: 336, Avg. loss: 0.130112\n",
      "Total training time: 0.00 seconds.\n",
      "-- Epoch 85\n",
      "Norm: 9.85, NNZs: 1, Bias: 1.122665, T: 340, Avg. loss: 0.130009\n",
      "Total training time: 0.00 seconds.\n",
      "-- Epoch 86\n",
      "Norm: 9.84, NNZs: 1, Bias: 1.120305, T: 344, Avg. loss: 0.128474\n",
      "Total training time: 0.00 seconds.\n",
      "-- Epoch 87\n",
      "Norm: 9.84, NNZs: 1, Bias: 1.118228, T: 348, Avg. loss: 0.128969\n",
      "Total training time: 0.00 seconds.\n",
      "-- Epoch 88\n",
      "Norm: 9.85, NNZs: 1, Bias: 1.116483, T: 352, Avg. loss: 0.128166\n",
      "Total training time: 0.00 seconds.\n",
      "-- Epoch 89\n",
      "Norm: 9.85, NNZs: 1, Bias: 1.114474, T: 356, Avg. loss: 0.128062\n",
      "Total training time: 0.00 seconds.\n",
      "-- Epoch 90\n",
      "Norm: 9.84, NNZs: 1, Bias: 1.112161, T: 360, Avg. loss: 0.126579\n",
      "Total training time: 0.00 seconds.\n",
      "-- Epoch 91\n",
      "Norm: 9.84, NNZs: 1, Bias: 1.110122, T: 364, Avg. loss: 0.127048\n",
      "Total training time: 0.00 seconds.\n",
      "-- Epoch 92\n",
      "Norm: 9.85, NNZs: 1, Bias: 1.108406, T: 368, Avg. loss: 0.126272\n",
      "Total training time: 0.00 seconds.\n",
      "-- Epoch 93\n",
      "Norm: 9.85, NNZs: 1, Bias: 1.106434, T: 372, Avg. loss: 0.126167\n",
      "Total training time: 0.00 seconds.\n",
      "-- Epoch 94\n",
      "Norm: 9.85, NNZs: 1, Bias: 1.104166, T: 376, Avg. loss: 0.124734\n",
      "Total training time: 0.00 seconds.\n",
      "-- Epoch 95\n",
      "Norm: 9.85, NNZs: 1, Bias: 1.102164, T: 380, Avg. loss: 0.125180\n",
      "Total training time: 0.00 seconds.\n",
      "-- Epoch 96\n",
      "Norm: 9.85, NNZs: 1, Bias: 1.100475, T: 384, Avg. loss: 0.124428\n",
      "Total training time: 0.00 seconds.\n",
      "-- Epoch 97\n",
      "Norm: 9.85, NNZs: 1, Bias: 1.098538, T: 388, Avg. loss: 0.124323\n",
      "Total training time: 0.00 seconds.\n",
      "-- Epoch 98\n",
      "Norm: 9.85, NNZs: 1, Bias: 1.096314, T: 392, Avg. loss: 0.122936\n",
      "Total training time: 0.00 seconds.\n",
      "-- Epoch 99\n",
      "Norm: 9.85, NNZs: 1, Bias: 1.094346, T: 396, Avg. loss: 0.123360\n",
      "Total training time: 0.00 seconds.\n",
      "-- Epoch 100\n",
      "Norm: 9.85, NNZs: 1, Bias: 1.092684, T: 400, Avg. loss: 0.122632\n",
      "Total training time: 0.00 seconds.\n",
      "-- Epoch 101\n",
      "Norm: 9.85, NNZs: 1, Bias: 1.090781, T: 404, Avg. loss: 0.122526\n",
      "Total training time: 0.00 seconds.\n",
      "-- Epoch 102\n",
      "Norm: 9.85, NNZs: 1, Bias: 1.088597, T: 408, Avg. loss: 0.121183\n",
      "Total training time: 0.00 seconds.\n",
      "-- Epoch 103\n",
      "Norm: 9.85, NNZs: 1, Bias: 1.086662, T: 412, Avg. loss: 0.121587\n",
      "Total training time: 0.00 seconds.\n",
      "-- Epoch 104\n",
      "Norm: 9.85, NNZs: 1, Bias: 1.085025, T: 416, Avg. loss: 0.120881\n",
      "Total training time: 0.00 seconds.\n",
      "-- Epoch 105\n",
      "Norm: 9.85, NNZs: 1, Bias: 1.083154, T: 420, Avg. loss: 0.120775\n",
      "Total training time: 0.00 seconds.\n",
      "-- Epoch 106\n",
      "Norm: 9.85, NNZs: 1, Bias: 1.081009, T: 424, Avg. loss: 0.119472\n",
      "Total training time: 0.00 seconds.\n",
      "-- Epoch 107\n",
      "Norm: 9.85, NNZs: 1, Bias: 1.079106, T: 428, Avg. loss: 0.119858\n",
      "Total training time: 0.00 seconds.\n",
      "-- Epoch 108\n",
      "Norm: 9.85, NNZs: 1, Bias: 1.077494, T: 432, Avg. loss: 0.119173\n",
      "Total training time: 0.00 seconds.\n",
      "-- Epoch 109\n",
      "Norm: 9.85, NNZs: 1, Bias: 1.075654, T: 436, Avg. loss: 0.119067\n",
      "Total training time: 0.00 seconds.\n",
      "-- Epoch 110\n",
      "Norm: 9.85, NNZs: 1, Bias: 1.073546, T: 440, Avg. loss: 0.117803\n",
      "Total training time: 0.00 seconds.\n",
      "-- Epoch 111\n",
      "Norm: 9.85, NNZs: 1, Bias: 1.071673, T: 444, Avg. loss: 0.118171\n",
      "Total training time: 0.00 seconds.\n",
      "-- Epoch 112\n",
      "Norm: 9.85, NNZs: 1, Bias: 1.070085, T: 448, Avg. loss: 0.117507\n",
      "Total training time: 0.00 seconds.\n",
      "-- Epoch 113\n",
      "Norm: 9.85, NNZs: 1, Bias: 1.068274, T: 452, Avg. loss: 0.117400\n",
      "Total training time: 0.00 seconds.\n",
      "-- Epoch 114\n",
      "Norm: 9.85, NNZs: 1, Bias: 1.066202, T: 456, Avg. loss: 0.116173\n",
      "Total training time: 0.00 seconds.\n",
      "-- Epoch 115\n",
      "Norm: 9.85, NNZs: 1, Bias: 1.064359, T: 460, Avg. loss: 0.116525\n",
      "Total training time: 0.00 seconds.\n",
      "-- Epoch 116\n",
      "Norm: 9.85, NNZs: 1, Bias: 1.062792, T: 464, Avg. loss: 0.115879\n",
      "Total training time: 0.00 seconds.\n",
      "-- Epoch 117\n",
      "Norm: 9.85, NNZs: 1, Bias: 1.061010, T: 468, Avg. loss: 0.115772\n",
      "Total training time: 0.00 seconds.\n",
      "-- Epoch 118\n",
      "Norm: 9.85, NNZs: 1, Bias: 1.058972, T: 472, Avg. loss: 0.114580\n",
      "Total training time: 0.00 seconds.\n",
      "-- Epoch 119\n",
      "Norm: 9.85, NNZs: 1, Bias: 1.057157, T: 476, Avg. loss: 0.114917\n",
      "Total training time: 0.00 seconds.\n",
      "-- Epoch 120\n",
      "Norm: 9.85, NNZs: 1, Bias: 1.055613, T: 480, Avg. loss: 0.114288\n",
      "Total training time: 0.00 seconds.\n",
      "-- Epoch 121\n",
      "Norm: 9.85, NNZs: 1, Bias: 1.053858, T: 484, Avg. loss: 0.114182\n",
      "Total training time: 0.00 seconds.\n",
      "-- Epoch 122\n",
      "Norm: 9.85, NNZs: 1, Bias: 1.051853, T: 488, Avg. loss: 0.113023\n",
      "Total training time: 0.00 seconds.\n",
      "-- Epoch 123\n",
      "Norm: 9.85, NNZs: 1, Bias: 1.050065, T: 492, Avg. loss: 0.113345\n",
      "Total training time: 0.01 seconds.\n",
      "-- Epoch 124\n",
      "Norm: 9.86, NNZs: 1, Bias: 1.048541, T: 496, Avg. loss: 0.112734\n",
      "Total training time: 0.01 seconds.\n",
      "-- Epoch 125\n",
      "Norm: 9.86, NNZs: 1, Bias: 1.046813, T: 500, Avg. loss: 0.112628\n",
      "Total training time: 0.01 seconds.\n",
      "-- Epoch 126\n",
      "Norm: 9.85, NNZs: 1, Bias: 1.044839, T: 504, Avg. loss: 0.111500\n",
      "Total training time: 0.01 seconds.\n",
      "-- Epoch 127\n",
      "Norm: 9.85, NNZs: 1, Bias: 1.043077, T: 508, Avg. loss: 0.111809\n",
      "Total training time: 0.01 seconds.\n",
      "-- Epoch 128\n",
      "Norm: 9.86, NNZs: 1, Bias: 1.041575, T: 512, Avg. loss: 0.111214\n",
      "Total training time: 0.01 seconds.\n",
      "-- Epoch 129\n",
      "Norm: 9.86, NNZs: 1, Bias: 1.039871, T: 516, Avg. loss: 0.111108\n",
      "Total training time: 0.01 seconds.\n",
      "-- Epoch 130\n",
      "Norm: 9.86, NNZs: 1, Bias: 1.037928, T: 520, Avg. loss: 0.110010\n",
      "Total training time: 0.01 seconds.\n",
      "-- Epoch 131\n",
      "Norm: 9.86, NNZs: 1, Bias: 1.036191, T: 524, Avg. loss: 0.110307\n",
      "Total training time: 0.01 seconds.\n",
      "-- Epoch 132\n",
      "Norm: 9.86, NNZs: 1, Bias: 1.034708, T: 528, Avg. loss: 0.109727\n",
      "Total training time: 0.01 seconds.\n",
      "-- Epoch 133\n",
      "Norm: 9.86, NNZs: 1, Bias: 1.033030, T: 532, Avg. loss: 0.109622\n",
      "Total training time: 0.01 seconds.\n",
      "-- Epoch 134\n",
      "Norm: 9.86, NNZs: 1, Bias: 1.031116, T: 536, Avg. loss: 0.108552\n",
      "Total training time: 0.01 seconds.\n",
      "-- Epoch 135\n",
      "Norm: 9.86, NNZs: 1, Bias: 1.029403, T: 540, Avg. loss: 0.108837\n",
      "Total training time: 0.01 seconds.\n",
      "-- Epoch 136\n",
      "Norm: 9.86, NNZs: 1, Bias: 1.027939, T: 544, Avg. loss: 0.108272\n",
      "Total training time: 0.01 seconds.\n",
      "-- Epoch 137\n",
      "Norm: 9.86, NNZs: 1, Bias: 1.026284, T: 548, Avg. loss: 0.108167\n",
      "Total training time: 0.01 seconds.\n",
      "-- Epoch 138\n",
      "Norm: 9.86, NNZs: 1, Bias: 1.024399, T: 552, Avg. loss: 0.107125\n",
      "Total training time: 0.01 seconds.\n",
      "-- Epoch 139\n",
      "Norm: 9.86, NNZs: 1, Bias: 1.022710, T: 556, Avg. loss: 0.107398\n",
      "Total training time: 0.01 seconds.\n",
      "-- Epoch 140\n",
      "Norm: 9.86, NNZs: 1, Bias: 1.021265, T: 560, Avg. loss: 0.106847\n",
      "Total training time: 0.01 seconds.\n",
      "-- Epoch 141\n",
      "Norm: 9.86, NNZs: 1, Bias: 1.019632, T: 564, Avg. loss: 0.106743\n",
      "Total training time: 0.01 seconds.\n",
      "-- Epoch 142\n",
      "Norm: 9.86, NNZs: 1, Bias: 1.017774, T: 568, Avg. loss: 0.105727\n",
      "Total training time: 0.01 seconds.\n",
      "-- Epoch 143\n",
      "Norm: 9.86, NNZs: 1, Bias: 1.016108, T: 572, Avg. loss: 0.105990\n",
      "Total training time: 0.01 seconds.\n",
      "-- Epoch 144\n",
      "Norm: 9.86, NNZs: 1, Bias: 1.014681, T: 576, Avg. loss: 0.105452\n",
      "Total training time: 0.01 seconds.\n",
      "-- Epoch 145\n",
      "Norm: 9.86, NNZs: 1, Bias: 1.013071, T: 580, Avg. loss: 0.105348\n",
      "Total training time: 0.01 seconds.\n",
      "-- Epoch 146\n",
      "Norm: 9.86, NNZs: 1, Bias: 1.011239, T: 584, Avg. loss: 0.104357\n",
      "Total training time: 0.01 seconds.\n",
      "-- Epoch 147\n",
      "Norm: 9.86, NNZs: 1, Bias: 1.009595, T: 588, Avg. loss: 0.104610\n",
      "Total training time: 0.01 seconds.\n",
      "Convergence after 147 epochs took 0.01 seconds\n"
     ]
    },
    {
     "data": {
      "text/plain": [
       "SGDRegressor(max_iter=5000, verbose=1)"
      ]
     },
     "execution_count": 15,
     "metadata": {},
     "output_type": "execute_result"
    }
   ],
   "source": [
    "sgd_model.fit(data[['시간']] , data['성적'])"
   ]
  },
  {
   "cell_type": "code",
   "execution_count": 16,
   "id": "0a618711",
   "metadata": {},
   "outputs": [
    {
     "name": "stdout",
     "output_type": "stream",
     "text": [
      "[9.85905624]\n",
      "[1.00959482]\n"
     ]
    }
   ],
   "source": [
    "# y = 9.83x + 1.2298\n",
    "print(sgd_model.coef_)\n",
    "print(sgd_model.intercept_)"
   ]
  },
  {
   "cell_type": "code",
   "execution_count": 17,
   "id": "6ecde9ec",
   "metadata": {},
   "outputs": [
    {
     "data": {
      "text/plain": [
       "array([70.02298853])"
      ]
     },
     "execution_count": 17,
     "metadata": {},
     "output_type": "execute_result"
    }
   ],
   "source": [
    "sgd_model.predict([[7]])"
   ]
  },
  {
   "cell_type": "code",
   "execution_count": 18,
   "id": "d5b552e3",
   "metadata": {},
   "outputs": [
    {
     "data": {
      "text/plain": [
       "0.999752899132223"
      ]
     },
     "execution_count": 18,
     "metadata": {},
     "output_type": "execute_result"
    }
   ],
   "source": [
    "# 분류 score : 정확도\n",
    "# 회귀 score : R2 score\n",
    "sgd_model.score(data[['시간']] , data['성적'])"
   ]
  }
 ],
 "metadata": {
  "kernelspec": {
   "display_name": "Python 3 (ipykernel)",
   "language": "python",
   "name": "python3"
  },
  "language_info": {
   "codemirror_mode": {
    "name": "ipython",
    "version": 3
   },
   "file_extension": ".py",
   "mimetype": "text/x-python",
   "name": "python",
   "nbconvert_exporter": "python",
   "pygments_lexer": "ipython3",
   "version": "3.9.7"
  },
  "toc": {
   "base_numbering": 1,
   "nav_menu": {},
   "number_sections": true,
   "sideBar": true,
   "skip_h1_title": false,
   "title_cell": "Table of Contents",
   "title_sidebar": "Contents",
   "toc_cell": false,
   "toc_position": {},
   "toc_section_display": true,
   "toc_window_display": true
  }
 },
 "nbformat": 4,
 "nbformat_minor": 5
}
